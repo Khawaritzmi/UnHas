{
 "cells": [
  {
   "cell_type": "markdown",
   "metadata": {},
   "source": [
    "# http://tau-data.id/unhas/"
   ]
  },
  {
   "cell_type": "markdown",
   "metadata": {
    "slideshow": {
     "slide_type": "slide"
    }
   },
   "source": [
    "<center><img alt=\"\" src=\"images/0_Cover.jpg\"/></center> \n",
    "\n",
    "## <center><font color=\"blue\">Modul 05: Pendahuluan Social Network Analysis</font></center>\n",
    "<b><center>(C) Taufik Sutanto - 2019</center>\n",
    "<center>tau-data Indonesia ~ https://tau-data.id ~ taufik@tau-data.id</center>"
   ]
  },
  {
   "cell_type": "markdown",
   "metadata": {},
   "source": [
    "## <center><font color=\"blue\">Pendahuluan Social Network Analysis</font></center>\n",
    "<img alt=\"\" src=\"images/PDS_logo.jpg\" />"
   ]
  },
  {
   "cell_type": "markdown",
   "metadata": {
    "slideshow": {
     "slide_type": "slide"
    }
   },
   "source": [
    "# <font color=\"blue\">Workshop Schedule</font>\n",
    "\n",
    "<center><img alt=\"\" src=\"images/Outline.jpeg\"/></center> "
   ]
  },
  {
   "cell_type": "code",
   "execution_count": null,
   "metadata": {},
   "outputs": [],
   "source": [
    "# Installing Modules for Google Colab\n",
    "!wget https://raw.githubusercontent.com/taufikedys/UnHas/master/taudata.py\n",
    "!mkdir data\n",
    "!wget -P data/ https://raw.githubusercontent.com/taufikedys/UnHas/master/data/Tweets.json\n",
    "!wget -P data/ https://raw.githubusercontent.com/taufikedys/UnHas/master/data/dataTweet.txt\n",
    "!wget -P data/ https://raw.githubusercontent.com/taufikedys/UnHas/master/data/slang.dic\n",
    "!wget -P data/ https://raw.githubusercontent.com/taufikedys/UnHas/master/data/stopwords_id.txt\n",
    "!wget -P data/ https://raw.githubusercontent.com/taufikedys/UnHas/master/data/stopwords_en.txt\n",
    "!wget -P data/ https://raw.githubusercontent.com/taufikedys/UnHas/master/data/all_indo_man_tag_corpus_model.crf.tagger\n",
    "!wget -P data/ https://raw.githubusercontent.com/taufikedys/UnHas/master/data/kata_dasar.txt\n",
    "!pip install unidecode\n",
    "!pip install pyLDAvis\n",
    "!pip install textblob\n",
    "!pip install sastrawi\n",
    "!pip install graphviz\n",
    "!pip install tweepy\n",
    "!pip install twython\n",
    "!pip install graphviz\n",
    "!pip install spacy\n",
    "!pip install python-crfsuite\n",
    "!python -m spacy download en\n",
    "!python -m spacy download xx\n",
    "!python -m spacy download en_core_web_sm\n",
    "import nltk\n",
    "nltk.download('popular')"
   ]
  },
  {
   "cell_type": "code",
   "execution_count": null,
   "metadata": {},
   "outputs": [],
   "source": [
    "# Importing Modules untuk Notebook ini\n",
    "import warnings; warnings.simplefilter('ignore')\n",
    "import taudata as tau, itertools, re, pickle, pyLDAvis, pyLDAvis.sklearn, spacy, nltk, urllib.request\n",
    "import time, numpy as np, matplotlib.pyplot as plt, networkx as nx, pandas as pd, seaborn as sns \n",
    "from matplotlib.colors import ListedColormap\n",
    "from tqdm import tqdm_notebook as tqdm\n",
    "from sklearn.feature_extraction.text import TfidfVectorizer, CountVectorizer\n",
    "from nltk.tag import CRFTagger\n",
    "import networkx as nx\n",
    "from graphviz import Digraph\n",
    "from nltk.corpus import stopwords\n",
    "\n",
    "pyLDAvis.enable_notebook()\n",
    "sns.set(style=\"ticks\", color_codes=True)\n",
    "random_state = 170"
   ]
  },
  {
   "cell_type": "markdown",
   "metadata": {
    "slideshow": {
     "slide_type": "slide"
    }
   },
   "source": [
    "## <font color=\"blue\">Outline SNA :</font>\n",
    "* Review Graph\n",
    "* Centrality Analysis\n",
    "* Graph Partitioning\n",
    "* Community Detection\n",
    "* Discussion on Final Project"
   ]
  },
  {
   "cell_type": "markdown",
   "metadata": {},
   "source": [
    "<h1 id=\"Sejarah\">Sejarah</h1>\n",
    "\n",
    "<ul>\n",
    "\t<li>1736: Leonhard Euler - Basel, 1707-St. Petersburg, 1786</li>\n",
    "\t<li>Mampu mengungkap misteri Jembatan Konigsberg di Prussia (saat ini Kaliningrad, Russia) </li>\n",
    "</ul>\n",
    "<img alt=\"\" src=\"images/Konigsberg_bridge.png\" />"
   ]
  },
  {
   "cell_type": "markdown",
   "metadata": {},
   "source": [
    "<h1 id=\"Graph\">Graph (Definisi)</h1>\n",
    "\n",
    "<ul>\n",
    "\t<ul>\n",
    "\t\t<li>Suatu Graph G adalah koleksi atau pasangan dari dua himpunan V dan E dengan</li>\n",
    "\t\t<li>V = V(G) = himpunan verteks atau simpul atau node.</li>\n",
    "\t\t<li>E = E(G) = himpunan edge atau ruas atau sisi.</li>\n",
    "\t</ul>\n",
    "    <li><img alt=\"\" src=\"images/contoh_graph.png\" style=\"width: 700px; height: 326px;\" /></li>\n",
    "</ul>"
   ]
  },
  {
   "cell_type": "markdown",
   "metadata": {},
   "source": [
    "<h1 id=\"Graph-Types\">Graph Types</h1>\n",
    "\n",
    "<p><img alt=\"\" src=\"images/Tipe_Graph.png\" style=\"width: 629px; height: 866px;\" /></p>\n"
   ]
  },
  {
   "cell_type": "markdown",
   "metadata": {},
   "source": [
    "<h1 id=\"Shortest-Path-and-Cycles\">Shortest Path and Cycles</h1>\n",
    "\n",
    "<p><img alt=\"\" src=\"images/path_cycles.png\" style=\"width: 800px; height: 342px;\" /></p>\n"
   ]
  },
  {
   "cell_type": "markdown",
   "metadata": {},
   "source": [
    "<h1 id=\"Degree/Derajat-Vertex\">Degree/Derajat Vertex</h1>\n",
    "\n",
    "<p><img alt=\"\" src=\"images/degree_vertex_graph.png\" style=\"width: 700px; height: 374px;\" /></p>\n"
   ]
  },
  {
   "cell_type": "markdown",
   "metadata": {},
   "source": [
    "<h1 id=\"Bipartite-Graph\">Bipartite Graph</h1>\n",
    "\n",
    "<p><img alt=\"\" src=\"images/Graph_Bipartite.png\" style=\"width: 800px; height: 407px;\" /></p>\n"
   ]
  },
  {
   "cell_type": "markdown",
   "metadata": {},
   "source": [
    "<h1 id=\"Graph-Representation\">Graph Representation</h1>\n",
    "\n",
    "<p><img alt=\"\" src=\"images/adjacency_matrix.png\" style=\"width: 800px; height: 516px;\" /></p>\n"
   ]
  },
  {
   "cell_type": "markdown",
   "metadata": {},
   "source": [
    "<p><img alt=\"\" src=\"images/incidence_matrix.png\" style=\"width: 800px; height: 469px;\" /></p>\n"
   ]
  },
  {
   "cell_type": "markdown",
   "metadata": {},
   "source": [
    "<h1 id=\"Graph-Isomorphism\">Graph Isomorphism</h1>\n",
    "\n",
    "<p><img alt=\"\" src=\"images/isomorphic_graphs.png\" style=\"width: 800px; height: 476px;\" /></p>\n"
   ]
  },
  {
   "cell_type": "markdown",
   "metadata": {},
   "source": [
    "<h1 id=\"Pemodelan-Graph-untuk-Penyelesaian-Masalah\">Pemodelan Graph untuk Penyelesaian Masalah</h1>\n",
    "\n",
    "<p><img alt=\"\" src=\"images/Graph_Modelling.png\" style=\"width: 800px; height: 496px;\" /></p>\n"
   ]
  },
  {
   "cell_type": "markdown",
   "metadata": {},
   "source": [
    "<h1 id=\"Graph-Applications\">Graph Applications</h1>\n",
    "\n",
    "<p><img alt=\"\" src=\"images/graph_applications.png\" style=\"width: 800px; height: 497px;\" /></p>\n"
   ]
  },
  {
   "cell_type": "markdown",
   "metadata": {},
   "source": [
    "<h1 id=\"Graph-in-Social-Media-Analytic\">Graph in Social Media Analytic</h1>\n",
    "\n",
    "<p><img alt=\"\" src=\"images/SNA.png\" style=\"width: 400px; height: 414px;\" /></p>\n"
   ]
  },
  {
   "cell_type": "markdown",
   "metadata": {},
   "source": [
    "## Tipe Graph\n",
    "\n",
    "<center><img alt=\"\" src=\"images/graph_types.png\" />"
   ]
  },
  {
   "cell_type": "markdown",
   "metadata": {},
   "source": [
    "## Tipe Graph di Python (NetworkX)\n",
    "## \n",
    "\n",
    "<center><img alt=\"\" src=\"images/graph_types_nx.png\" />"
   ]
  },
  {
   "cell_type": "code",
   "execution_count": null,
   "metadata": {},
   "outputs": [],
   "source": [
    "# Di NetworkX: inisialisasi graph kosong dilakukan seperti ini:\n",
    "\n",
    "G1 = nx.Graph() # Di kesempatan ini Graph tak Berarah ini yang akan lebih banyak kita gunakan\n",
    "G2 = nx.DiGraph()\n",
    "G3 = nx.MultiGraph()\n",
    "G4 = nx.MultiDiGraph()"
   ]
  },
  {
   "cell_type": "markdown",
   "metadata": {},
   "source": [
    "# Mari mulai dengan Membuat Graph Sederhana (Toy Data)\n",
    "\n",
    "### 1. Mendefinisikan Graph\n",
    "### 2. Menambahkan Vertex dan Edge\n",
    "### 3. Graph Properties\n",
    "### 4. Visualisasi Graph"
   ]
  },
  {
   "cell_type": "code",
   "execution_count": null,
   "metadata": {},
   "outputs": [],
   "source": [
    "# 1. Mendefinisikan Graph (kosong)\n",
    "G = nx.Graph()\n",
    "G"
   ]
  },
  {
   "cell_type": "code",
   "execution_count": null,
   "metadata": {},
   "outputs": [],
   "source": [
    "V = [1, 2, 7, 9, 12, 19] # Bisa juga string, misal \"A\" atau nama \"Budi\"\n",
    "E = [(1,2), (2,19), (9,2), (9,1), (2,8), (8,10), (12,7),(7,2), (7,9)] # Perhatikan \"8\" dan \"10\" TIDAK ADA di V\n",
    "\n",
    "G.add_nodes_from(V)\n",
    "G.add_edges_from(E)\n",
    "\n",
    "print('Banyak vertex = ', G.number_of_nodes())\n",
    "print('Banyak Edges = ', G.number_of_edges())"
   ]
  },
  {
   "cell_type": "markdown",
   "metadata": {},
   "source": [
    "## Visualisasi Graph\n",
    "\n",
    "1. Graph mirip vector: tidak memiliki info lokasi\n",
    "2. Maka pertama kali kita tentukan cara menggambar vertexnya dulu: pos (position)\n",
    "\n",
    "<center><img alt=\"\" src=\"images/nx_layouts.png\" />"
   ]
  },
  {
   "cell_type": "code",
   "execution_count": null,
   "metadata": {},
   "outputs": [],
   "source": [
    "# Draw Graph # https://networkx.github.io/documentation/networkx-1.10/reference/drawing.html#layout\n",
    "\n",
    "pos = nx.spring_layout(G) # Spring LayOut\n",
    "\n",
    "nx.draw_networkx_nodes(G,pos, alpha=0.3,node_color='green',node_size=800) # Gambar Vertex\n",
    "nx.draw_networkx_edges(G,pos,width=1) # Gambar edges\n",
    "nx.draw_networkx_labels(G,pos) #Gambar Label Nodes\n",
    "plt.show() # Show the graph"
   ]
  },
  {
   "cell_type": "code",
   "execution_count": null,
   "metadata": {},
   "outputs": [],
   "source": [
    "pos"
   ]
  },
  {
   "cell_type": "code",
   "execution_count": null,
   "metadata": {},
   "outputs": [],
   "source": [
    "# Ingat Graph Isomorphism?\n",
    "pos=nx.circular_layout(G) # Circular Layout\n",
    "\n",
    "nx.draw_networkx_nodes(G,pos) # Gambar Vertex\n",
    "nx.draw_networkx_edges(G,pos,width=2) # Gambar edges\n",
    "nx.draw_networkx_labels(G,pos) #Gambar Label Nodes\n",
    "plt.show() # Show the graph"
   ]
  },
  {
   "cell_type": "code",
   "execution_count": null,
   "metadata": {},
   "outputs": [],
   "source": [
    "pos = nx.random_layout(G) # Random\n",
    "\n",
    "nx.draw_networkx_nodes(G,pos, alpha=0.2,node_color='blue',node_size=600) # Gambar Vertex\n",
    "nx.draw_networkx_edges(G,pos,width=2) # Gambar edges\n",
    "nx.draw_networkx_labels(G,pos) #Gambar Label Nodes\n",
    "plt.show() # Show the graph"
   ]
  },
  {
   "cell_type": "code",
   "execution_count": null,
   "metadata": {},
   "outputs": [],
   "source": [
    "shell = [[1,2,7,9],[12,19,8,10]]\n",
    "pos = nx.shell_layout(G, shell) # Shells\n",
    "\n",
    "nx.draw_networkx_nodes(G,pos, alpha=0.2,node_color='blue',node_size=600) # Gambar Vertex\n",
    "nx.draw_networkx_edges(G,pos,width=2) # Gambar edges\n",
    "nx.draw_networkx_labels(G,pos) #Gambar Label Nodes\n",
    "plt.show() # Show the graph"
   ]
  },
  {
   "cell_type": "code",
   "execution_count": null,
   "metadata": {},
   "outputs": [],
   "source": [
    "pos=nx.spectral_layout(G) # Spectral\n",
    "\n",
    "nx.draw_networkx_nodes(G,pos, alpha=0.2,node_color='blue',node_size=600) # Gambar Vertex\n",
    "nx.draw_networkx_edges(G,pos,width=2) # Gambar edges\n",
    "nx.draw_networkx_labels(G,pos) #Gambar Label Nodes\n",
    "plt.show() # Show the graph"
   ]
  },
  {
   "cell_type": "markdown",
   "metadata": {},
   "source": [
    "## Untuk graphics Graph yang lebih baik lagi: **GraphViz**\n",
    "\n",
    "### Bisa untuk Analisa graph Kurikulum"
   ]
  },
  {
   "cell_type": "code",
   "execution_count": null,
   "metadata": {},
   "outputs": [],
   "source": [
    "f = Digraph('finite_state_machine', filename='fsm.gv')\n",
    "f.attr(rankdir='LR', size='8,5')\n",
    "f.attr('node', shape='doublecircle')\n",
    "f.node('LR_0'); f.node('LR_3')\n",
    "f.node('LR_4');f.node('LR_8')\n",
    "f.attr('node', shape='circle')\n",
    "f.edge('LR_0', 'LR_2', label='SS(B)'); f.edge('LR_0', 'LR_1', label='SS(S)')\n",
    "f.edge('LR_1', 'LR_3', label='S($end)'); f.edge('LR_2', 'LR_6', label='SS(b)')\n",
    "f.edge('LR_2', 'LR_5', label='SS(a)'); f.edge('LR_2', 'LR_4', label='S(A)')\n",
    "f.edge('LR_5', 'LR_7', label='S(b)'); f.edge('LR_5', 'LR_5', label='S(a)')\n",
    "f.edge('LR_6', 'LR_6', label='S(b)'); f.edge('LR_6', 'LR_5', label='S(a)')\n",
    "f.edge('LR_7', 'LR_8', label='S(b)'); f.edge('LR_7', 'LR_5', label='S(a)')\n",
    "f.edge('LR_8', 'LR_6', label='S(b)'); f.edge('LR_8', 'LR_5', label='S(a)')\n",
    "f"
   ]
  },
  {
   "cell_type": "code",
   "execution_count": null,
   "metadata": {},
   "outputs": [],
   "source": [
    "# Hapus Vertex/Edges\n",
    "G.remove_node(19)\n",
    "G.remove_edge(1, 2)\n",
    "\n",
    "pos=nx.spectral_layout(G) # Spectral\n",
    "\n",
    "nx.draw_networkx_nodes(G,pos, alpha=0.1,node_color='blue',node_size=800) # Gambar Vertex\n",
    "nx.draw_networkx_edges(G,pos,width=2, alpha=0.1) # Gambar edges\n",
    "nx.draw_networkx_labels(G,pos, size=1000) #Gambar Label Nodes\n",
    "plt.show() # Show the graph"
   ]
  },
  {
   "cell_type": "code",
   "execution_count": null,
   "metadata": {},
   "outputs": [],
   "source": [
    "# Degree\n",
    "G.degree[8]"
   ]
  },
  {
   "cell_type": "markdown",
   "metadata": {},
   "source": [
    "## Membangun Graph\n",
    "\n",
    "## Menambahkan vertex, node, dan weights"
   ]
  },
  {
   "cell_type": "code",
   "execution_count": null,
   "metadata": {},
   "outputs": [],
   "source": [
    "G = nx.Graph() # Graph Kosong\n",
    "G"
   ]
  },
  {
   "cell_type": "code",
   "execution_count": null,
   "metadata": {},
   "outputs": [],
   "source": [
    "G.nodes(), G.edges()"
   ]
  },
  {
   "cell_type": "code",
   "execution_count": null,
   "metadata": {
    "colab": {
     "base_uri": "https://localhost:8080/",
     "height": 34
    },
    "colab_type": "code",
    "id": "YFLmEG121nZW",
    "outputId": "19af0ea5-5922-4381-978b-cb4938c09232"
   },
   "outputs": [],
   "source": [
    "# ini adalah cara sederhana menambahkan node ke graph satu persatu\n",
    "G.add_node(1)\n",
    "G.add_node(99)\n",
    "G.add_node(1) # \"Himpunan\"\n",
    "print(G.nodes())"
   ]
  },
  {
   "cell_type": "code",
   "execution_count": null,
   "metadata": {
    "colab": {
     "base_uri": "https://localhost:8080/",
     "height": 50
    },
    "colab_type": "code",
    "id": "w5-ZyHUc3vbj",
    "outputId": "c09745af-62cf-4913-c3b9-14de02bd989a"
   },
   "outputs": [],
   "source": [
    "# ini cara menambahkan array of vertices ke Graph kita\n",
    "V = [1,2,5,6,8,33,65,88] # vertices\n",
    "\n",
    "for vertex in V:\n",
    "  G.add_node(vertex)\n",
    "print( G.nodes() )\n",
    "print( G.edges() )"
   ]
  },
  {
   "cell_type": "code",
   "execution_count": null,
   "metadata": {
    "colab": {
     "base_uri": "https://localhost:8080/",
     "height": 50
    },
    "colab_type": "code",
    "id": "1YhqeNMh6ER7",
    "outputId": "65f3b5a5-d4af-475c-e6ea-87fd6a1dcc80"
   },
   "outputs": [],
   "source": [
    "# ini cara menambahkan Edge secara manual satu per satu\n",
    "G.add_edge(5, 8)\n",
    "G.add_edge(8, 65)\n",
    "print( G.nodes() )\n",
    "print( G.edges() )"
   ]
  },
  {
   "cell_type": "code",
   "execution_count": null,
   "metadata": {
    "colab": {
     "base_uri": "https://localhost:8080/",
     "height": 50
    },
    "colab_type": "code",
    "id": "j78_HUXK6SaA",
    "outputId": "0fe460e3-d193-4ef1-ea78-1953cd42d8d2"
   },
   "outputs": [],
   "source": [
    "# Kita bisa menambahkan edge walaupun di Graph kita belum ada vertexnya, vertex tersebut akan automatis ditambahkan ke graphnya\n",
    "# ini cara menambahkan Edge secara manual satu per satu\n",
    "# misal di contoh ini vertex 77 dan vertex \"A\" tidak ada sebelumnya di Graph G\n",
    "G.add_edge(77, 8)\n",
    "G.add_edge('Depok', 88)\n",
    "print( G.nodes() )\n",
    "print( G.edges() )"
   ]
  },
  {
   "cell_type": "code",
   "execution_count": null,
   "metadata": {
    "colab": {
     "base_uri": "https://localhost:8080/",
     "height": 185
    },
    "colab_type": "code",
    "id": "Kl6zEGP54HgJ",
    "outputId": "40af6693-89ec-41a8-9352-e474b35fd1d4"
   },
   "outputs": [],
   "source": [
    "# ini memahami bagaimana looping atas Array dari pasangan terurut dilakukan di python\n",
    "E = [(1,33), (1,88), (6,88), (2,5), (2,8)]\n",
    "\n",
    "for sisi in E:\n",
    "  print(sisi[0])\n",
    "\n",
    "for sisi in E:\n",
    "  print(sisi[1])"
   ]
  },
  {
   "cell_type": "code",
   "execution_count": null,
   "metadata": {
    "colab": {
     "base_uri": "https://localhost:8080/",
     "height": 50
    },
    "colab_type": "code",
    "id": "NEh8_MHE5Kiv",
    "outputId": "3c7af458-1670-4ae2-b089-cd4da3c7dce3"
   },
   "outputs": [],
   "source": [
    "# Ini adalah cara menambahkan Edge di Graph dengan loop\n",
    "for sisi in E:\n",
    "  G.add_edge(sisi[0], sisi[1])\n",
    "  \n",
    "print( G.nodes() )\n",
    "print( G.edges() )"
   ]
  },
  {
   "cell_type": "code",
   "execution_count": null,
   "metadata": {},
   "outputs": [],
   "source": [
    "plt.subplots(figsize=(12,8))\n",
    "\n",
    "\n",
    "pos = nx.spring_layout(G)\n",
    "nx.draw_networkx_nodes(G,pos) # ini sekedar menggambar noktah vertex\n",
    "nx.draw_networkx_labels(G,pos) # ini kemudian memberikan label di setiap vertex pada langkah sebelumnya\n",
    "nx.draw_networkx_edges(G,pos) # ini menggambar edge di graph G\n",
    "plt.show()"
   ]
  },
  {
   "cell_type": "code",
   "execution_count": null,
   "metadata": {},
   "outputs": [],
   "source": [
    "# Cara lain\n",
    "\n",
    "G = nx.Graph() # Graph Kosong Baru\n",
    "V = [1, 2, 7, 9, 12, 19] # Bisa juga string, misal \"A\" atau nama \"Budi\"\n",
    "E = [(1,2), (2,19), (9,2), (9,1), (2,8), (8,10), (12,7),(7,2), (7,9)] # Perhatikan \"8\" dan \"10\" TIDAK ADA di V\n",
    "\n",
    "G.add_nodes_from(V)\n",
    "G.add_edges_from(E)\n",
    "\n",
    "print('Banyak vertex = ', G.number_of_nodes())\n",
    "print('Banyak Edges = ', G.number_of_edges())"
   ]
  },
  {
   "cell_type": "code",
   "execution_count": null,
   "metadata": {},
   "outputs": [],
   "source": [
    "pos = nx.spring_layout(G)\n",
    "nx.draw_networkx_nodes(G,pos, alpha=0.8,node_color='green',node_size=800) # ini sekedar menggambar noktah vertex\n",
    "nx.draw_networkx_labels(G,pos) # ini kemudian memberikan label di setiap vertex pada langkah sebelumnya\n",
    "nx.draw_networkx_edges(G,pos) # ini menggambar edge di graph G\n",
    "plt.show()"
   ]
  },
  {
   "cell_type": "markdown",
   "metadata": {},
   "source": [
    "# Manipulasi graph: Menghapus Node atau sub-graph"
   ]
  },
  {
   "cell_type": "code",
   "execution_count": null,
   "metadata": {},
   "outputs": [],
   "source": [
    "v = [7, 12, 19]\n",
    "G.remove_nodes_from(v)"
   ]
  },
  {
   "cell_type": "code",
   "execution_count": null,
   "metadata": {},
   "outputs": [],
   "source": [
    "pos = nx.spring_layout(G)\n",
    "nx.draw_networkx_nodes(G,pos, alpha=0.8,node_color='green',node_size=800) # ini sekedar menggambar noktah vertex\n",
    "nx.draw_networkx_labels(G,pos) # ini kemudian memberikan label di setiap vertex pada langkah sebelumnya\n",
    "nx.draw_networkx_edges(G,pos) # ini menggambar edge di graph G\n",
    "plt.show()"
   ]
  },
  {
   "cell_type": "markdown",
   "metadata": {},
   "source": [
    "## Remove Edges"
   ]
  },
  {
   "cell_type": "code",
   "execution_count": null,
   "metadata": {},
   "outputs": [],
   "source": [
    "E = [(1,9)]\n",
    "G.remove_edges_from(E)"
   ]
  },
  {
   "cell_type": "code",
   "execution_count": null,
   "metadata": {},
   "outputs": [],
   "source": [
    "pos = nx.spring_layout(G)\n",
    "nx.draw_networkx_nodes(G,pos, alpha=0.8,node_color='green',node_size=800) # ini sekedar menggambar noktah vertex\n",
    "nx.draw_networkx_labels(G,pos) # ini kemudian memberikan label di setiap vertex pada langkah sebelumnya\n",
    "nx.draw_networkx_edges(G,pos, edge_color='blue') # ini menggambar edge di graph G\n",
    "plt.show()"
   ]
  },
  {
   "cell_type": "markdown",
   "metadata": {},
   "source": [
    "## Adding Graph weights/properties"
   ]
  },
  {
   "cell_type": "code",
   "execution_count": null,
   "metadata": {},
   "outputs": [],
   "source": [
    "V = ['Depok', 'Jakarta','Bogor','Bekasi', 'Tangerang']\n",
    "Vluas = [12.3, 44.5, 1.2, 0.6, 23] # contoh parameter \"luas\"\n",
    "\n",
    "E = [('Depok','Bogor'), ('Jakarta','Bekasi'), ('Bekasi','Bogor'),('Depok','Bekasi'),('Tangerang','Bekasi')] # ini adalah edgenya\n",
    "Ejrk = [22.4, 1.2, 5.6, 7.8, 9] # ini \"contoh\" nanti jadi parameter ke-2 dari setiap Edge di E\n",
    "\n",
    "\n",
    "G = nx.Graph() # graph sebelumnya tertimpa dan jadi Graph kosong kembali\n",
    "# Kemudian kita akan tambahkan vertex, edge, beserta setiap parameter yg didefinisikan di atas ke graph G\n",
    "for vertex, area in zip(V, Vluas):\n",
    "  G.add_node(vertex, luas=area) # nama variable parameter di setiap vertexnya di contoh ini adalah \"waktu\" dan \"orang\"\n",
    "  \n",
    "for sisi, dist in zip(E, Ejrk):\n",
    "  G.add_edge(sisi[0], sisi[1], jarak=dist)\n",
    "\n",
    "print( G.nodes() )\n",
    "print( G.edges() )\n",
    "print('Luas Depok = ', G.nodes['Depok']['luas'])"
   ]
  },
  {
   "cell_type": "code",
   "execution_count": null,
   "metadata": {},
   "outputs": [],
   "source": [
    "plt.subplots(figsize=(12,8))\n",
    "\n",
    "pos = nx.spring_layout(G)\n",
    "nx.draw_networkx_nodes(G,pos) # ini sekedar menggambar noktah vertex\n",
    "nx.draw_networkx_labels(G,pos) # ini kemudian memberikan label di setiap vertex pada langkah sebelumnya\n",
    "nx.draw_networkx_edges(G,pos) # ini menggambar edge di graph G\n",
    "nx.draw_networkx_edge_labels(G,pos,edge_labels=nx.get_edge_attributes(G,'jarak')) # ini label dari edgenya\n",
    "plt.show()"
   ]
  },
  {
   "cell_type": "markdown",
   "metadata": {},
   "source": [
    "<h1 id=\"Degree/Derajat-Vertex\">Degree/Derajat Vertex</h1>\n",
    "\n",
    "<p><img alt=\"\" src=\"images/degree_vertex_graph.png\" style=\"width: 700px; height: 374px;\" /></p>"
   ]
  },
  {
   "cell_type": "code",
   "execution_count": null,
   "metadata": {},
   "outputs": [],
   "source": [
    "d = nx.degree(G)\n",
    "d"
   ]
  },
  {
   "cell_type": "code",
   "execution_count": null,
   "metadata": {},
   "outputs": [],
   "source": [
    "[d[node] for node in G.nodes()]"
   ]
  },
  {
   "cell_type": "markdown",
   "metadata": {},
   "source": [
    "## Menggunakan degree untuk membuat gambar graph yang lebih baik"
   ]
  },
  {
   "cell_type": "code",
   "execution_count": null,
   "metadata": {},
   "outputs": [],
   "source": [
    "plt.subplots(figsize=(12,8))\n",
    "\n",
    "pos = nx.spring_layout(G) # Spring LayOut\n",
    "\n",
    "D = [d[node]*1000 for node in G.nodes()]\n",
    "nx.draw_networkx_nodes(G,pos,node_size=D) # Gambar Vertex\n",
    "nx.draw_networkx_edges(G,pos,width=2,alpha=0.15) # Gambar edges\n",
    "nx.draw_networkx_labels(G,pos) #Gambar Label Nodes\n",
    "plt.show() # Show the graph"
   ]
  },
  {
   "cell_type": "markdown",
   "metadata": {},
   "source": [
    "## Menambahkan informasi warna"
   ]
  },
  {
   "cell_type": "code",
   "execution_count": null,
   "metadata": {},
   "outputs": [],
   "source": [
    "plt.subplots(figsize=(12,8))\n",
    "\n",
    "warna = D\n",
    "pos = nx.spring_layout(G) # Spring LayOut\n",
    "nx.draw_networkx_nodes(G,pos, node_color=warna,node_size=D, alpha=0.5) # Gambar Vertex\n",
    "nx.draw_networkx_edges(G,pos,width=2,alpha=0.1) # Gambar edges\n",
    "nx.draw_networkx_labels(G,pos) #Gambar Label Nodes\n",
    "plt.show() # Show the graph"
   ]
  },
  {
   "cell_type": "markdown",
   "metadata": {},
   "source": [
    "<h1 id=\"(Shortest)-Path\">(Shortest) Path</h1>\n",
    "\n",
    "<p><img alt=\"\" src=\"images/shortest_path.png\" style=\"width: 690px; height: 414px;\" /></p>"
   ]
  },
  {
   "cell_type": "code",
   "execution_count": null,
   "metadata": {},
   "outputs": [],
   "source": [
    "SP = nx.shortest_path(G, source='Tangerang', target='Depok')\n",
    "SP"
   ]
  },
  {
   "cell_type": "code",
   "execution_count": null,
   "metadata": {},
   "outputs": [],
   "source": [
    "H = G.subgraph(SP)\n",
    "\n",
    "pos = nx.spring_layout(H) # Spring LayOut\n",
    "nx.draw_networkx_nodes(H,pos,alpha=0.5) # Gambar Vertex\n",
    "nx.draw_networkx_edges(H,pos,width=2,alpha=0.1) # Gambar edges\n",
    "nx.draw_networkx_labels(H,pos) #Gambar Label Nodes\n",
    "plt.show() # Show the graph"
   ]
  },
  {
   "cell_type": "markdown",
   "metadata": {},
   "source": [
    "<h1 id=\"Graph-From-Social-media\">Graph From Social media</h1>\n",
    "\n",
    "<h3 id=\"Mentions,-Followers,-Friends\">Mentions, Followers, Friends</h3>\n",
    "\n",
    "<p><img alt=\"\" src=\"images/SNA_Graph_Types.png\" style=\"width: 700px; height: 443px;\" /></p>\n"
   ]
  },
  {
   "cell_type": "code",
   "execution_count": null,
   "metadata": {},
   "outputs": [],
   "source": [
    "# stopId, lemmaId = tau.LoadStopWords(lang='id') \n",
    "print('Loading Data  ... ')\n",
    "T2 = tau.loadTweets(file='data/Tweets.json')\n",
    "Usernames = [t['user']['screen_name'] for t in T2[:300]] # di SNA kita membutuhkan informasi ini\n",
    "Tweets = [t['full_text'] for t in T2[:300]] # Tweet hasil crawling\n",
    "# Caution jangan menghilangkan simbols untuk keperluan SNA\n",
    "Tweets[:3]"
   ]
  },
  {
   "cell_type": "code",
   "execution_count": null,
   "metadata": {},
   "outputs": [],
   "source": [
    "# Draw the Tweet Graph\n",
    "G = tau.Graph([Usernames,Tweets], Label = False, layOut='spring', plain=True) # layOut = spring, circular, random, shells, spectral"
   ]
  },
  {
   "cell_type": "markdown",
   "metadata": {},
   "source": [
    "<h2>I. Centrality&nbsp;Analysis</h2>\n",
    "\n",
    "<p>Bertujuan untuk menemukan pengguna yang paling berpengaruh dalam suatu topik pembicaraan di media sosial. Analisanya biasanya dilakukan melalui data graph dari hubungan jaringan pertemanan (follower/friend) antar pengguna atau komunikasi antar pengguna (mentions).</p>\n",
    "\n",
    "<p><img alt=\"\" src=\"images/8_SMA_Centrality.JPG\" style=\"height: 400px ; width: 600px\" /></p>\n"
   ]
  },
  {
   "cell_type": "markdown",
   "metadata": {},
   "source": [
    "<h1 id=\"Centrality-by-Degree\">Centrality by Degree</h1>\n",
    "\n",
    "<p><img alt=\"\" src=\"images/Degree_Centrality.png\" style=\"width: 800px; height: 505px;\" /></p>\n",
    "\n",
    "## Apakah interpretasinya?"
   ]
  },
  {
   "cell_type": "code",
   "execution_count": null,
   "metadata": {},
   "outputs": [],
   "source": [
    "# Let's now examine, who are the most \"important\" users in this Graph?\n",
    "Gt = tau.Centrality(G, N=10, method='degree', outliers=False, Label = True, layOut='spring')"
   ]
  },
  {
   "cell_type": "code",
   "execution_count": null,
   "metadata": {},
   "outputs": [],
   "source": [
    "plot = tau.drawGraph(Gt, True, layOut='spring')"
   ]
  },
  {
   "cell_type": "markdown",
   "metadata": {},
   "source": [
    "<h1 id=\"Closeness-Centrality\">Closeness Centrality</h1>\n",
    "\n",
    "<p><img alt=\"\" src=\"images/closeness_centrality.png\" style=\"width: 700px; height: 320px;\" /></p>\n"
   ]
  },
  {
   "cell_type": "code",
   "execution_count": null,
   "metadata": {},
   "outputs": [],
   "source": [
    "Gt = tau.Centrality(G, N=10, method='closeness', outliers=False, Label = True, layOut='spring')"
   ]
  },
  {
   "cell_type": "code",
   "execution_count": null,
   "metadata": {},
   "outputs": [],
   "source": [
    "plot = tau.drawGraph(Gt, True, layOut='spring')"
   ]
  },
  {
   "cell_type": "markdown",
   "metadata": {},
   "source": [
    "<h1 id=\"Betweenness-Centrality\">Betweenness Centrality</h1>\n",
    "\n",
    "<p><img alt=\"\" src=\"images/betweeness_Centrality.png\" style=\"width: 700px; height: 368px;\" /></p>\n"
   ]
  },
  {
   "cell_type": "code",
   "execution_count": null,
   "metadata": {},
   "outputs": [],
   "source": [
    "Gt = tau.Centrality(G, N=10, method='betweeness', outliers=False, Label = True, layOut='spring')"
   ]
  },
  {
   "cell_type": "code",
   "execution_count": null,
   "metadata": {},
   "outputs": [],
   "source": [
    "plot = tau.drawGraph(Gt, True, layOut='spring')"
   ]
  },
  {
   "cell_type": "markdown",
   "metadata": {},
   "source": [
    "# Eigenvector Centrality\n",
    "\n",
    "<p><img alt=\"\" src=\"images/Eigenvector_Centrality_1.png\" style=\"width: 685px; height: 430px;\" /></p>\n",
    "\n",
    "### Digunakan juga oleh Google dalam Algoritma PageRank-nya untuk menentukan halaman web terpenting."
   ]
  },
  {
   "cell_type": "markdown",
   "metadata": {},
   "source": [
    "<p><img alt=\"\" src=\"images/Eigenvector_Centrality_0_.png\" style=\"width: 685px; height: 430px;\" /></p>"
   ]
  },
  {
   "cell_type": "code",
   "execution_count": null,
   "metadata": {},
   "outputs": [],
   "source": [
    "Gt = tau.Centrality(G, N=10, method='eigen', outliers=False, Label = True, layOut='spring')"
   ]
  },
  {
   "cell_type": "code",
   "execution_count": null,
   "metadata": {},
   "outputs": [],
   "source": [
    "plot = tau.drawGraph(Gt, True, layOut='spring')"
   ]
  },
  {
   "cell_type": "code",
   "execution_count": null,
   "metadata": {},
   "outputs": [],
   "source": [
    "# Menggunakan centrality measure untuk merubah tampilan Graph\n",
    "## Contoh dengan graph generators https://networkx.github.io/documentation/networkx-1.10/reference/generators.html\n",
    "\n",
    "#g = nx.dorogovtsev_goltsev_mendes_graph(3)\n",
    "g = nx.karate_club_graph()\n",
    "\n",
    "pos = nx.spring_layout(g) # Spring LayOut\n",
    "nx.draw_networkx_nodes(g,pos, alpha=0.2,node_color='blue',node_size=600) # Gambar Vertex\n",
    "nx.draw_networkx_edges(g,pos,width=2,alpha=0.1) # Gambar edges\n",
    "nx.draw_networkx_labels(g,pos) #Gambar Label Nodes\n",
    "plt.show() # Show the graph"
   ]
  },
  {
   "cell_type": "code",
   "execution_count": null,
   "metadata": {},
   "outputs": [],
   "source": [
    "# Menggunakan Centrality measure (misal degree) untuk merubah ukuran node\n",
    "\n",
    "K = 100 # Scale factor\n",
    "d = nx.degree(g) \n",
    "d = [d[node]*K for node in g.nodes()]\n",
    "\n",
    "pos = nx.spring_layout(g) # Spring LayOut\n",
    "nx.draw_networkx_nodes(g,pos,node_size=d) # Gambar Vertex\n",
    "nx.draw_networkx_edges(g,pos,width=2,alpha=0.15) # Gambar edges\n",
    "nx.draw_networkx_labels(g,pos) #Gambar Label Nodes\n",
    "plt.show() # Show the graph"
   ]
  },
  {
   "cell_type": "code",
   "execution_count": null,
   "metadata": {},
   "outputs": [],
   "source": [
    "# Menggunakan tingkat \"kepentingan\" sebagai warna\n",
    "ranking = nx.degree_centrality(g)\n",
    "warna = list(ranking.values())\n",
    "print(warna)"
   ]
  },
  {
   "cell_type": "code",
   "execution_count": null,
   "metadata": {},
   "outputs": [],
   "source": [
    "pos = nx.spring_layout(g) # Spring LayOut\n",
    "nx.draw_networkx_nodes(g,pos, node_color=warna,node_size=d) # Gambar Vertex\n",
    "nx.draw_networkx_edges(g,pos,width=2,alpha=0.1) # Gambar edges\n",
    "nx.draw_networkx_labels(g,pos) #Gambar Label Nodes\n",
    "plt.show() # Show the graph"
   ]
  },
  {
   "cell_type": "markdown",
   "metadata": {},
   "source": [
    "<h1 id=\"Summary\">Summary</h1>\n",
    "\n",
    "<p><img alt=\"\" src=\"images/Centrality_Interpretations.png\" style=\"width: 659px; height: 349px;\" /></p>\n",
    "\n",
    "### Coba diskusikan optimal use case dari masing-masing metric ini."
   ]
  },
  {
   "cell_type": "markdown",
   "metadata": {},
   "source": [
    "<h2>II. Community Detection (CD)</h2>\n",
    "\n",
    "<p>CD dilakukan pada data jaringan media sosial untuk menemukan komunitas-komunitas dalam pertemanan atau pembicaraan di media sosial. Secara sederhana CD dapat dimengerti sebagai proses \"semacam clustering\" (pengelompokan) , namun atas suatu graph.</p>\n",
    "\n",
    "<img alt=\"\" src=\"images/8_SMA_Community.JPG\" style=\"height: 400px ; width: 600px\" />\n"
   ]
  },
  {
   "cell_type": "markdown",
   "metadata": {},
   "source": [
    "# Bipartition (Bisection) Partitioning\n",
    "\n",
    "* <img alt=\"\" src=\"images/KL_Algorithms.png\" />\n",
    "* This algorithm paritions a network into two sets by iteratively swapping pairs of nodes to reduce the edge cut between the two sets.\n",
    "* https://www.youtube.com/watch?v=MMlf66PQdN8\n",
    "* Paper: Kernighan, B. W.; Lin, Shen (1970). “An efficient heuristic procedure for partitioning graphs.” Bell Systems Technical Journal 49: 291–307. Oxford University Press 2011."
   ]
  },
  {
   "cell_type": "code",
   "execution_count": null,
   "metadata": {},
   "outputs": [],
   "source": [
    "B = nx.algorithms.community.kernighan_lin_bisection(G)\n",
    "B"
   ]
  },
  {
   "cell_type": "code",
   "execution_count": null,
   "metadata": {},
   "outputs": [],
   "source": [
    "warna = []\n",
    "for v in B[0]:\n",
    "    warna.append(1)\n",
    "for v in B[1]:\n",
    "    warna.append(2)"
   ]
  },
  {
   "cell_type": "code",
   "execution_count": null,
   "metadata": {},
   "outputs": [],
   "source": [
    "pos = nx.shell_layout(G, B)\n",
    "nx.draw_networkx_nodes(G,pos, node_color=warna,node_size=d) # Gambar Vertex\n",
    "nx.draw_networkx_edges(G,pos,width=2,alpha=0.1) # Gambar edges\n",
    "#nx.draw_networkx_labels(G,pos) #Gambar Label Nodes\n",
    "plt.show() # Show the graph"
   ]
  },
  {
   "cell_type": "code",
   "execution_count": null,
   "metadata": {},
   "outputs": [],
   "source": [
    "# Bipartite partitioning on our social media Graph\n",
    "G_bip = nx.algorithms.community.kernighan_lin_bisection(G)\n",
    "G_bip"
   ]
  },
  {
   "cell_type": "markdown",
   "metadata": {},
   "source": [
    "<p><img alt=\"\" src=\"images/Partitioning_VS_Clustering_Graph.png\" style=\"width: 800px; height: 428px;\" /></p>"
   ]
  },
  {
   "cell_type": "markdown",
   "metadata": {},
   "source": [
    "# Graph Clustering via \"Modularity\"\n",
    "\n",
    "* Modules biasa disebut juga groups, clusters atau communities\n",
    "* Terdapat berbagai cara dalam menghitung \"Modularity\" (contoh dibawah)\n",
    "* Graph with high modularity have dense connections between the nodes within \"modules\" but sparse connections between nodes in different modules.\n",
    "* Salah satu metodenya : Greedy Modularity Maximization (GMM)\n",
    "* GMM begins with each node in its own community and joins the pair of communities that most increases modularity until no such pair exists.\n",
    "* Clauset, A., Newman, M. E., & Moore, C. “Finding community structure in very large networks.” Physical Review E 70(6), 2004.\n",
    "* Other resources for study: https://slideplayer.com/slide/7050174/\n",
    "\n",
    "<img alt=\"\" src=\"images/Graph_Modularity.png\" />"
   ]
  },
  {
   "cell_type": "code",
   "execution_count": null,
   "metadata": {},
   "outputs": [],
   "source": [
    "# WARNING!!!... Hanya bisa jika networkX versi 2.2 ke atas \n",
    "M = nx.algorithms.community.greedy_modularity_communities(G)\n",
    "print(M)"
   ]
  },
  {
   "cell_type": "code",
   "execution_count": null,
   "metadata": {},
   "outputs": [],
   "source": [
    "W = []\n",
    "warna = 1\n",
    "for module in M:\n",
    "    for node in module:\n",
    "        W.append(warna)\n",
    "    warna = warna +1\n",
    "print(W)"
   ]
  },
  {
   "cell_type": "code",
   "execution_count": null,
   "metadata": {},
   "outputs": [],
   "source": [
    "pos = nx.shell_layout(G, M)\n",
    "nx.draw_networkx_nodes(G,pos, node_color=W,node_size=d) # Gambar Vertex\n",
    "nx.draw_networkx_edges(G,pos,width=2,alpha=0.1) # Gambar edges\n",
    "#nx.draw_networkx_labels(g,pos) #Gambar Label Nodes\n",
    "plt.show() # Show the graph"
   ]
  },
  {
   "cell_type": "code",
   "execution_count": null,
   "metadata": {},
   "outputs": [],
   "source": [
    "# Communities on our social media Graph\n",
    "M_Mod = nx.algorithms.community.greedy_modularity_communities(G)\n",
    "print(M_Mod)"
   ]
  },
  {
   "cell_type": "markdown",
   "metadata": {},
   "source": [
    "<p><img alt=\"\" src=\"images/Gephi.jpg\" style=\"width: 580px; height: 358px;\" /></p>\n"
   ]
  },
  {
   "cell_type": "markdown",
   "metadata": {
    "slideshow": {
     "slide_type": "slide"
    }
   },
   "source": [
    "# <center><font color=\"blue\"> End of Module 10 : End of Workshop\n",
    "\n",
    "<hr />\n",
    "<p><img alt=\"\" src=\"images/8_twitter_140_char.jpg\" /></p>"
   ]
  }
 ],
 "metadata": {
  "celltoolbar": "Slideshow",
  "kernelspec": {
   "display_name": "Python 3",
   "language": "python",
   "name": "python3"
  },
  "language_info": {
   "codemirror_mode": {
    "name": "ipython",
    "version": 3
   },
   "file_extension": ".py",
   "mimetype": "text/x-python",
   "name": "python",
   "nbconvert_exporter": "python",
   "pygments_lexer": "ipython3",
   "version": "3.6.8"
  }
 },
 "nbformat": 4,
 "nbformat_minor": 2
}
