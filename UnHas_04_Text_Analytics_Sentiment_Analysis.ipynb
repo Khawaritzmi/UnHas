{
 "cells": [
  {
   "cell_type": "markdown",
   "metadata": {},
   "source": [
    "# http://tau-data.id/umi/"
   ]
  },
  {
   "cell_type": "code",
   "execution_count": null,
   "metadata": {},
   "outputs": [],
   "source": [
    "# Installing Modules for Google Colab\n",
    "!wget https://raw.githubusercontent.com/taufikedys/UMI/master/taudata.py\n",
    "!mkdir data\n",
    "!wget -P data/ https://raw.githubusercontent.com/taufikedys/UMI/master/data/Tweets.json\n",
    "!wget -P data/ https://raw.githubusercontent.com/taufikedys/UMI/master/data/dataTweet.txt\n",
    "!wget -P data/ https://raw.githubusercontent.com/taufikedys/UMI/master/data/slang.dic\n",
    "!wget -P data/ https://raw.githubusercontent.com/taufikedys/UMI/master/data/stopwords_id.txt\n",
    "!wget -P data/ https://raw.githubusercontent.com/taufikedys/UMI/master/data/stopwords_en.txt\n",
    "!wget -P data/ https://raw.githubusercontent.com/taufikedys/UMI/master/data/all_indo_man_tag_corpus_model.crf.tagger\n",
    "!wget -P data/ https://raw.githubusercontent.com/taufikedys/UMI/master/data/kata_dasar.txt\n",
    "!pip install unidecode\n",
    "!pip install pyLDAvis\n",
    "!pip install textblob\n",
    "!pip install sastrawi\n",
    "!pip install twython\n",
    "!pip install tweepy\n",
    "!pip install spacy\n",
    "!pip install python-crfsuite\n",
    "!python -m spacy download en\n",
    "!python -m spacy download xx\n",
    "!python -m spacy download en_core_web_sm\n",
    "import nltk\n",
    "nltk.download('popular')"
   ]
  },
  {
   "cell_type": "code",
   "execution_count": 1,
   "metadata": {},
   "outputs": [
    {
     "name": "stderr",
     "output_type": "stream",
     "text": [
      "c:\\winpython_368\\python-3.6.8.amd64\\lib\\site-packages\\scipy\\sparse\\sparsetools.py:21: DeprecationWarning: `scipy.sparse.sparsetools` is deprecated!\n",
      "scipy.sparse.sparsetools is a private module for scipy.sparse, and should not be used.\n",
      "  _deprecated()\n"
     ]
    }
   ],
   "source": [
    "# Importing Modules untuk Notebook ini\n",
    "import warnings; warnings.simplefilter('ignore')\n",
    "import taudata as tau, itertools, re, pickle, pyLDAvis, pyLDAvis.sklearn, spacy, nltk, urllib.request\n",
    "import time, numpy as np, matplotlib.pyplot as plt, networkx as nx, pandas as pd, seaborn as sns \n",
    "from matplotlib.colors import ListedColormap\n",
    "from tqdm import tqdm_notebook as tqdm\n",
    "from sklearn.feature_extraction.text import TfidfVectorizer, CountVectorizer\n",
    "from nltk.tag import CRFTagger\n",
    "from gensim.models import Phrases\n",
    "from gensim.corpora.dictionary import Dictionary\n",
    "from gensim.models.coherencemodel import CoherenceModel\n",
    "from gensim.models.ldamodel import LdaModel\n",
    "from nltk.corpus import stopwords\n",
    "from gensim.models import Word2Vec, FastText\n",
    "\n",
    "pyLDAvis.enable_notebook()\n",
    "sns.set(style=\"ticks\", color_codes=True)\n",
    "random_state = 170"
   ]
  },
  {
   "cell_type": "markdown",
   "metadata": {
    "slideshow": {
     "slide_type": "slide"
    }
   },
   "source": [
    "<center><img alt=\"\" src=\"images/0_Cover.jpg\"/></center> \n",
    "\n",
    "## <center><font color=\"blue\">Modul 09: Pendahuluan Social media Analytics</font></center>\n",
    "<b><center>(C) Taufik Sutanto - 2019</center>\n",
    "<center>tau-data Indonesia ~ https://tau-data.id ~ taufik@tau-data.id</center>"
   ]
  },
  {
   "cell_type": "markdown",
   "metadata": {},
   "source": [
    "## <center><font color=\"blue\">Pendahuluan Social Media Analysis</font></center>\n",
    "<img alt=\"\" src=\"images/PDS_logo.jpg\" />"
   ]
  },
  {
   "cell_type": "markdown",
   "metadata": {
    "slideshow": {
     "slide_type": "slide"
    }
   },
   "source": [
    "# <font color=\"blue\">Workshop Schedule</font>\n",
    "\n",
    "**Social Media & network Analysis**\n",
    "* 09:00 – 11:00 \tTopic Modelling\n",
    "* 11:00 – 12:00\tLatihan Topic Modelling\n",
    "* 13:00 – 14:00\tPendahuluan Social Network Analytics\n",
    "* 14:00 – 15.00\tCentrality Analysis dan Community Detection\n",
    "* 15:00 – 16.00\tLatihan Centrality Analysis dan Community Detection \n",
    "\n",
    "Studi Kasus: **Sentiment Analysis dan Topic Modelling Kasus Banjir**\n"
   ]
  },
  {
   "cell_type": "markdown",
   "metadata": {
    "slideshow": {
     "slide_type": "slide"
    }
   },
   "source": [
    "## <font color=\"blue\">Outline Topic Modelling :</font>\n",
    "* Pendahuluan Topic Modelling\n",
    "* Soft Clustering (Topic Modelling): LDA dan NMF\n",
    "* Visualisasi dan Interpretasi"
   ]
  },
  {
   "cell_type": "markdown",
   "metadata": {},
   "source": [
    "<h3>Ketika mengolah dokumen (file dalam bentuk teks), harapan kita seperti ini:</h3>\n",
    "\n",
    "<img alt=\"\" src=\"images/4_harapan_LSA.png\" style=\"height:99px; width:198px\" />\n"
   ]
  },
  {
   "cell_type": "markdown",
   "metadata": {},
   "source": [
    "<h3>Namun kita sudah bahas kemarin kenyataannya seperti ini:</h3>\n",
    "\n",
    "<p><img alt=\"\" src=\"images/4_kenyataan_LSA.png\" style=\"height:183px; width:182px\" /></p>"
   ]
  },
  {
   "cell_type": "markdown",
   "metadata": {},
   "source": [
    "<h2 id=\"Topic-Modelling-1-:-Latent-Dirichlet-Allocation\">Topic Modelling 1 : Latent Dirichlet Allocation</h2>\n",
    "\n",
    "<p><img alt=\"\" src=\"images/4_Document_to_Topics.png\" style=\"height: 300px ; width: 582px\" /></p>\n",
    "\n",
    "<p><strong><big>Tapi bukan seperti klasifikasi dan bukan berarti kata-kata Sport, Technology, dan Entertainment dominan di kategori-kategori tersebut. Topic modelling lebih ke soft-clustering, dimana suatu dokumen dimasukkan ke dalam beberapa cluster (topic) sekaligus. Adapun nama &quot;topic/cluster&quot;-nya di interpretasi dari kata-kata yang ada didalamnya.</big></strong></p>\n"
   ]
  },
  {
   "cell_type": "markdown",
   "metadata": {},
   "source": [
    "<p><img alt=\"\" src=\"images/4_LDA vs LDA.JPG\" style=\"height:400px; width:606px\" /></p>\n",
    "[<a href=\"http://chdoig.github.io/pytexas2015-topic-modeling/\" target=\"_blank\">Sumber gambar ini dan beberapa gambar selanjutnya</a>]</p>"
   ]
  },
  {
   "cell_type": "markdown",
   "metadata": {},
   "source": [
    "<p><img alt=\"\" src=\"images/4_definisi topic model.JPG\" style=\"height:350px; width:809px\" />\n"
   ]
  },
  {
   "cell_type": "markdown",
   "metadata": {},
   "source": [
    "<p><img alt=\"\" src=\"images/4_inti_LDA.JPG\" style=\"height:500px; width:785px\" /></p>\n",
    "Penjelasan intuitif yang baik: https://medium.com/@lettier/how-does-lda-work-ill-explain-using-emoji-108abf40fa7d "
   ]
  },
  {
   "cell_type": "markdown",
   "metadata": {},
   "source": [
    "<h3>Evaluasi LDA?</h3>\n",
    "\n",
    "<p><img alt=\"\" src=\"images/4_Evaluasi_LDA.jpg\" style=\"height:400px; width:888px\" /></p>\n",
    "[Cara lain: http://mimno.infosci.cornell.edu/slides/details.pdf]"
   ]
  },
  {
   "cell_type": "markdown",
   "metadata": {},
   "source": [
    "<p><img alt=\"\" src=\"images/4_LDA Pipeline.JPG\" style=\"height:300px; width:663px\" /></p>\n",
    "* Modifikasi dapat dilakukan dengan \"pos tags\""
   ]
  },
  {
   "cell_type": "code",
   "execution_count": 2,
   "metadata": {},
   "outputs": [
    {
     "name": "stdout",
     "output_type": "stream",
     "text": [
      "Loading Data  ... \n"
     ]
    }
   ],
   "source": [
    "# stopId, lemmaId = tau.LoadStopWords(lang='id') \n",
    "print('Loading Data  ... ')\n",
    "T2 = tau.loadTweets(file='data/Tweets.json')\n",
    "D = [t['full_text'] for t in T2] # Tweet hasil crawling"
   ]
  },
  {
   "cell_type": "code",
   "execution_count": 3,
   "metadata": {},
   "outputs": [
    {
     "name": "stdout",
     "output_type": "stream",
     "text": [
      "Loading Slang, stopwords, dan fungsi lemma ... \n"
     ]
    }
   ],
   "source": [
    "print('Loading Slang, stopwords, dan fungsi lemma ... ')\n",
    "\n",
    "slangFixId = tau.loadCorpus(file = 'data/slang.dic', sep=':')\n",
    "stopId, lemmaId = tau.LoadStopWords(lang='id') # kita akan menggunakan stopwords dan Lemma"
   ]
  },
  {
   "cell_type": "code",
   "execution_count": 4,
   "metadata": {},
   "outputs": [
    {
     "name": "stdout",
     "output_type": "stream",
     "text": [
      "Cleaning Data ... \n"
     ]
    },
    {
     "data": {
      "application/vnd.jupyter.widget-view+json": {
       "model_id": "c50a78a32481499b801452fc5584d9d5",
       "version_major": 2,
       "version_minor": 0
      },
      "text/plain": [
       "HBox(children=(IntProgress(value=1, bar_style='info', max=1), HTML(value='')))"
      ]
     },
     "metadata": {},
     "output_type": "display_data"
    },
    {
     "name": "stdout",
     "output_type": "stream",
     "text": [
      "\n",
      "['reishaac makassar bias ku orang percaya tukang promosi disaat member pakai masker alasan dunia lihat ketampanan member tertua grup ku suka jatuh cinta lihat', 'amaoell ayobantu retweet coba tokotamz pinbb jual sepatu baju aksesoris cewek makassar', 'hai ayobantu retweet coba tokotamz pinbb jual sepatu baju aksesoris cewek makassar']\n"
     ]
    }
   ],
   "source": [
    "print('Cleaning Data ... ')\n",
    "data = []\n",
    "for i, d in tqdm(enumerate(D)):\n",
    "    doc = tau.cleanText(d, fix=slangFixId, lemma=lemmaId, stops = set(stopId))\n",
    "    data.append(doc)\n",
    "print(data[:3])"
   ]
  },
  {
   "cell_type": "code",
   "execution_count": 5,
   "metadata": {},
   "outputs": [
    {
     "data": {
      "text/plain": [
       "(10000, 10561)"
      ]
     },
     "execution_count": 5,
     "metadata": {},
     "output_type": "execute_result"
    }
   ],
   "source": [
    "# Kita mulai dengan membuat VSM-nya\n",
    "# kita gunakan perintah yang ada di Segmen sebelumnya \n",
    "from sklearn.feature_extraction.text import CountVectorizer\n",
    "tf_vectorizer = CountVectorizer()\n",
    "\n",
    "tf = tf_vectorizer.fit_transform(data)\n",
    "tf_terms = tf_vectorizer.get_feature_names()\n",
    "# Mengapa tf bukan tfidf?\n",
    "# Blei, D. M., Ng, A. Y., & Jordan, M. I. (2003). Latent dirichlet allocation. Journal of machine Learning research, 3(Jan), 993-1022.\n",
    "# Bisa di tamahkan dengan Frequency filtering \"Max_df\" dan \"Min_df\"\n",
    "\n",
    "tf.shape"
   ]
  },
  {
   "cell_type": "code",
   "execution_count": 6,
   "metadata": {},
   "outputs": [
    {
     "data": {
      "text/plain": [
       "LatentDirichletAllocation(batch_size=128, doc_topic_prior=None,\n",
       "                          evaluate_every=-1, learning_decay=0.7,\n",
       "                          learning_method='batch', learning_offset=10.0,\n",
       "                          max_doc_update_iter=100, max_iter=10,\n",
       "                          mean_change_tol=0.001, n_components=3, n_jobs=None,\n",
       "                          perp_tol=0.1, random_state=0, topic_word_prior=None,\n",
       "                          total_samples=1000000.0, verbose=0)"
      ]
     },
     "execution_count": 6,
     "metadata": {},
     "output_type": "execute_result"
    }
   ],
   "source": [
    "# Dilanjutkan dengan membentuk model LDA-nya\n",
    "from sklearn.decomposition import LatentDirichletAllocation as LDA\n",
    "\n",
    "n_topics = 3\n",
    "lda = LDA(n_components=n_topics, learning_method='batch', random_state=0).fit(tf)   \n",
    "lda"
   ]
  },
  {
   "cell_type": "code",
   "execution_count": 8,
   "metadata": {},
   "outputs": [
    {
     "name": "stdout",
     "output_type": "stream",
     "text": [
      "(10000, 3)\n"
     ]
    },
    {
     "data": {
      "text/plain": [
       "array([[0.01347607, 0.97093821, 0.01558571],\n",
       "       [0.94823848, 0.02584276, 0.02591876],\n",
       "       [0.94826935, 0.02582597, 0.02590468],\n",
       "       ...,\n",
       "       [0.95194209, 0.02399802, 0.0240599 ],\n",
       "       [0.94820362, 0.02586172, 0.02593466],\n",
       "       [0.9551766 , 0.02238512, 0.02243829]])"
      ]
     },
     "execution_count": 8,
     "metadata": {},
     "output_type": "execute_result"
    }
   ],
   "source": [
    "# Melihat Topik-topiknya\n",
    "vsm_topics = lda.transform(tf)\n",
    "print(vsm_topics.shape)\n",
    "vsm_topics\n",
    "# Ukuran kolom = #Topics ==> Dimension Reduction"
   ]
  },
  {
   "cell_type": "code",
   "execution_count": 9,
   "metadata": {},
   "outputs": [
    {
     "data": {
      "application/vnd.jupyter.widget-view+json": {
       "model_id": "84d13180f0b345b9b8421f17169ab23e",
       "version_major": 2,
       "version_minor": 0
      },
      "text/plain": [
       "HBox(children=(IntProgress(value=0, max=10000), HTML(value='')))"
      ]
     },
     "metadata": {},
     "output_type": "display_data"
    },
    {
     "name": "stdout",
     "output_type": "stream",
     "text": [
      "\n"
     ]
    },
    {
     "data": {
      "text/plain": [
       "[2, 1, 1, 1, 1, 1, 3, 3, 2, 2]"
      ]
     },
     "execution_count": 9,
     "metadata": {},
     "output_type": "execute_result"
    }
   ],
   "source": [
    "# Seandainya diasumsikan 1 dokumen hanya 1 topic dengan nilai skor topic terbesar\n",
    "doc_topic =  [a.argmax()+1 for a in tqdm(vsm_topics)] # topic of docs\n",
    "doc_topic[:10]"
   ]
  },
  {
   "cell_type": "code",
   "execution_count": 10,
   "metadata": {},
   "outputs": [
    {
     "data": {
      "image/png": "[encoded data removed]",
      "text/plain": [
       "<Figure size 432x288 with 1 Axes>"
      ]
     },
     "metadata": {},
     "output_type": "display_data"
    }
   ],
   "source": [
    "# mari kita plot\n",
    "plot = sns.countplot(doc_topic)"
   ]
  },
  {
   "cell_type": "code",
   "execution_count": 11,
   "metadata": {},
   "outputs": [
    {
     "name": "stdout",
     "output_type": "stream",
     "text": [
      "Printing top 3 Topics, with top 15 Words:\n",
      "Topic #1:\n",
      "makassar jual coba baju retweet cewek tokotamz sepatu pinbb ayobantu aksesoris hai tsu iya vv\n",
      "Topic #2:\n",
      "makassar rt psm indostransfer klok persija marc resmi belanda gelandang anthony official memboyong kah bali\n",
      "Topic #3:\n",
      "makassar rt psm lalenok united adem iya bugis bahasa belajar mari afc poppelangi jalan anies\n"
     ]
    }
   ],
   "source": [
    "# Mari kita coba maknai masing-masing topic ini\n",
    "Top_Words = 15\n",
    "print('Printing top {0} Topics, with top {1} Words:'.format(n_topics, Top_Words))\n",
    "tau.print_Topics(lda, tf_terms, n_topics, Top_Words)"
   ]
  },
  {
   "cell_type": "code",
   "execution_count": 12,
   "metadata": {},
   "outputs": [
    {
     "data": {
      "text/html": [
       "\n",
       "<link rel=\"stylesheet\" type=\"text/css\" href=\"https://cdn.rawgit.com/bmabey/pyLDAvis/files/ldavis.v1.0.0.css\">\n",
       "\n",
       "\n",
       "<div id=\"ldavis_el180415220545140327335353607\"></div>\n",
       "<script type=\"text/javascript\">\n",
       "\n",
       "var ldavis_el180415220545140327335353607_data = {\"mdsDat\": {\"x\": [0.34486182021889716, -0.16719391731411384, -0.17766790290478365], \"y\": [0.0034693075826499054, -0.17307798592045, 0.1696086783378001], \"topics\": [1, 2, 3], \"cluster\": [1, 1, 1], \"Freq\": [51.2669381210706, 26.88025763627287, 21.852804242656525]}, \"tinfo\": {\"Category\": [\"Default\", \"Default\", \"Default\", \"Default\", \"Default\", \"Default\", \"Default\", \"Default\", \"Default\", \"Default\", \"Default\", \"Default\", \"Default\", \"Default\", \"Default\", \"Default\", \"Default\", \"Default\", \"Default\", \"Default\", \"Default\", \"Default\", \"Default\", \"Default\", \"Default\", \"Default\", \"Default\", \"Default\", \"Default\", \"Default\", \"Topic1\", \"Topic1\", \"Topic1\", \"Topic1\", \"Topic1\", \"Topic1\", \"Topic1\", \"Topic1\", \"Topic1\", \"Topic1\", \"Topic1\", \"Topic1\", \"Topic1\", \"Topic1\", \"Topic1\", \"Topic1\", \"Topic1\", \"Topic1\", \"Topic1\", \"Topic1\", \"Topic1\", \"Topic1\", \"Topic1\", \"Topic1\", \"Topic1\", \"Topic1\", \"Topic1\", \"Topic1\", \"Topic1\", \"Topic1\", \"Topic1\", \"Topic1\", \"Topic1\", \"Topic1\", \"Topic1\", \"Topic1\", \"Topic1\", \"Topic2\", \"Topic2\", \"Topic2\", \"Topic2\", \"Topic2\", \"Topic2\", \"Topic2\", \"Topic2\", \"Topic2\", \"Topic2\", \"Topic2\", \"Topic2\", \"Topic2\", \"Topic2\", \"Topic2\", \"Topic2\", \"Topic2\", \"Topic2\", \"Topic2\", \"Topic2\", \"Topic2\", \"Topic2\", \"Topic2\", \"Topic2\", \"Topic2\", \"Topic2\", \"Topic2\", \"Topic2\", \"Topic2\", \"Topic2\", \"Topic2\", \"Topic2\", \"Topic2\", \"Topic2\", \"Topic2\", \"Topic2\", \"Topic2\", \"Topic3\", \"Topic3\", \"Topic3\", \"Topic3\", \"Topic3\", \"Topic3\", \"Topic3\", \"Topic3\", \"Topic3\", \"Topic3\", \"Topic3\", \"Topic3\", \"Topic3\", \"Topic3\", \"Topic3\", \"Topic3\", \"Topic3\", \"Topic3\", \"Topic3\", \"Topic3\", \"Topic3\", \"Topic3\", \"Topic3\", \"Topic3\", \"Topic3\", \"Topic3\", \"Topic3\", \"Topic3\", \"Topic3\", \"Topic3\", \"Topic3\", \"Topic3\", \"Topic3\", \"Topic3\", \"Topic3\", \"Topic3\", \"Topic3\", \"Topic3\", \"Topic3\", \"Topic3\", \"Topic3\", \"Topic3\", \"Topic3\", \"Topic3\", \"Topic3\", \"Topic3\", \"Topic3\", \"Topic3\", \"Topic3\"], \"Freq\": [4221.0, 4220.0, 4213.0, 4204.0, 4204.0, 4202.0, 4202.0, 4201.0, 4200.0, 4200.0, 2183.0, 1872.0, 1221.0, 623.0, 518.0, 491.0, 441.0, 386.0, 336.0, 328.0, 322.0, 317.0, 316.0, 632.0, 304.0, 452.0, 277.0, 414.0, 232.0, 217.0, 4201.970735749955, 4201.970722096291, 4201.053161550037, 4200.135587349999, 4200.135587349999, 4203.8053210369335, 4203.805188731846, 4219.401622473351, 4221.236538621625, 4212.979312502883, 1872.1917078641575, 631.6103045162989, 293.9355500779078, 63.59803284466995, 75.3773052012688, 59.92964375441463, 60.829748650248995, 60.818622369906336, 99.80544623108713, 100.66770664700657, 100.66465260652554, 63.44547842482655, 60.6606719806884, 100.08711803503297, 13.14120967448736, 13.097805433679653, 13.097805217312404, 13.097805148287991, 13.097805142284908, 13.097805054118961, 67.65952840002392, 61.120498459174755, 613.3218830812973, 4481.769728498568, 89.25122916370064, 58.652614145753276, 62.78793297011373, 304.1172930399938, 277.0104608111948, 231.78987790319383, 216.4095832452618, 195.62449032095304, 195.62276643547872, 190.19857037801378, 189.27369606102113, 191.07373687922197, 179.34797287180274, 174.8268812734375, 173.01808155612213, 169.40096059891195, 170.29136994175747, 164.87976087133524, 164.87976087133524, 163.97548152692562, 163.97548152692562, 162.1650443977088, 154.02418281391166, 152.2171963557754, 144.0790394982031, 142.26597960748498, 140.4642216336909, 139.55855781955157, 138.65583933776122, 138.65583933776122, 109.70258768794675, 87.10597344998912, 86.1962865179515, 1177.5074233894281, 291.69841000470564, 2109.094455293912, 331.58387949741507, 243.24876655504744, 165.89242457238456, 178.9026761247533, 623.0277126436065, 517.4058688514261, 490.767621925789, 441.173542523557, 386.0644537643997, 335.54925929014325, 328.2013167818251, 321.77216132987206, 317.17980257718426, 316.26132810975264, 97.65826113703193, 96.739830901345, 86.64262847998108, 74.70058456245367, 71.94452143749473, 124.74873667255025, 69.16480082181577, 68.23671171553924, 60.0001643135154, 57.251400992286285, 56.332928205206485, 55.413979099307916, 54.486575611190474, 51.74032394768329, 56.266345528926095, 50.813944119229, 49.90350561377839, 48.97555332803084, 48.05823795682699, 41.631294965398254, 52.412315673236414, 67.57223682631282, 52.412293729876566, 52.412283334251875, 889.9845493942905, 179.3196467043893, 75.70997796737406, 102.06304576861692, 96.18105764296955, 1005.0978890975156, 273.5459069799265, 85.48744163959998, 118.35998177406242, 110.46476977216892, 1220.0932283789639, 111.18011669145277, 122.24044245272056, 92.8566479079863, 95.7169916439096], \"Term\": [\"jual\", \"coba\", \"baju\", \"retweet\", \"cewek\", \"tokotamz\", \"sepatu\", \"pinbb\", \"ayobantu\", \"aksesoris\", \"rt\", \"hai\", \"psm\", \"indostransfer\", \"klok\", \"persija\", \"marc\", \"resmi\", \"belanda\", \"gelandang\", \"anthony\", \"official\", \"memboyong\", \"tsu\", \"lalenok\", \"kah\", \"adem\", \"united\", \"bugis\", \"bahasa\", \"tokotamz\", \"sepatu\", \"pinbb\", \"ayobantu\", \"aksesoris\", \"retweet\", \"cewek\", \"coba\", \"jual\", \"baju\", \"hai\", \"tsu\", \"vv\", \"loleng\", \"cina\", \"manteman\", \"ati\", \"kakek\", \"mendatangk\", \"menjalin\", \"membenarkan\", \"nenek\", \"co\", \"terbaru\", \"holdak\", \"inewstvmakassar\", \"rtmcsulsel\", \"polsekmakassar\", \"dinsosmks\", \"officialrcti\", \"restichayah\", \"hahaha\", \"iya\", \"makassar\", \"arifuddin\", \"medan\", \"munafri\", \"lalenok\", \"adem\", \"bugis\", \"bahasa\", \"belajar\", \"mari\", \"poppelangi\", \"jalan\", \"afc\", \"anies\", \"pohon\", \"baswedan\", \"karniilyas\", \"angkat\", \"bungkam\", \"pembicaraan\", \"anaklolina\", \"kad\", \"tol\", \"mas\", \"eh\", \"ko\", \"berita\", \"ganteng\", \"seribu\", \"protokol\", \"tebang\", \"piala\", \"bermain\", \"lolos\", \"rt\", \"united\", \"makassar\", \"psm\", \"iya\", \"orang\", \"kah\", \"indostransfer\", \"klok\", \"persija\", \"marc\", \"resmi\", \"belanda\", \"gelandang\", \"anthony\", \"official\", \"memboyong\", \"tampines\", \"rovers\", \"zone\", \"shan\", \"australia\", \"asean\", \"kapal\", \"dm\", \"nur\", \"tradisional\", \"marege\", \"jawara\", \"hasil\", \"berlayar\", \"indonesian\", \"transfer\", \"padewakang\", \"pe\", \"ready\", \"ceres\", \"asian\", \"kaya\", \"campaign\", \"clubs\", \"psm\", \"bali\", \"fc\", \"ceo\", \"jakarta\", \"rt\", \"kah\", \"vs\", \"februari\", \"indonesia\", \"makassar\", \"grup\", \"united\", \"kota\", \"orang\"], \"Total\": [4221.0, 4220.0, 4213.0, 4204.0, 4204.0, 4202.0, 4202.0, 4201.0, 4200.0, 4200.0, 2183.0, 1872.0, 1221.0, 623.0, 518.0, 491.0, 441.0, 386.0, 336.0, 328.0, 322.0, 317.0, 316.0, 632.0, 304.0, 452.0, 277.0, 414.0, 232.0, 217.0, 4202.5789947863395, 4202.578994633081, 4201.66140050594, 4200.743806225512, 4200.743806225512, 4204.414179760215, 4204.41417602004, 4220.013269809024, 4221.848455784269, 4213.590131919618, 1872.8063143851386, 632.2185118772122, 294.54370928214854, 64.22748378154644, 76.15432480928855, 60.557109166803414, 61.474570801001384, 61.474561387384576, 100.9317458878536, 101.84939351817187, 101.84939644818192, 64.22715559381085, 61.474881847038716, 103.68682857328797, 13.759625754188312, 13.75922629276654, 13.759226291424962, 13.759226290702555, 13.759226290993317, 13.759226290101505, 71.57118831362942, 70.59533634201405, 873.6548130820828, 7810.957412171443, 111.96284614877878, 73.27145400478038, 111.07047663548542, 304.75139026133854, 277.6226952622806, 232.40887029394028, 217.0362540433585, 196.23763791001954, 196.23766496771216, 190.81197038331212, 189.9080144481696, 191.7167060075422, 179.96061584477948, 175.43921823348333, 173.63066492428592, 170.01355074361138, 170.9180470611557, 165.49215488746606, 165.49215488746606, 164.587876328365, 164.587876328365, 162.7793487351227, 154.6408785559051, 152.83229675364998, 144.6937841200794, 142.88529765890533, 141.07663378895506, 140.17237696143582, 139.26807390393958, 139.26807390393958, 110.3314160641038, 87.72428932786073, 86.8200949154737, 2183.098054599145, 414.244863205893, 7810.957412171443, 1221.8765771027836, 873.6548130820828, 261.9161169054375, 452.75464064344555, 623.6393824166685, 518.0147741522297, 491.3790185572686, 441.78137591216637, 386.67287481975353, 336.15677173029286, 328.80897063251757, 322.37964919596504, 317.78727490378, 316.86880004551404, 98.27168948924766, 97.35321534683413, 87.25008461787613, 75.30988269910866, 72.5544481988193, 125.81876712626328, 69.79864911333574, 68.88003099459878, 60.61421044810821, 57.858888666254074, 56.940413825837226, 56.02193686161099, 55.10331902166621, 52.34803603894569, 56.93991698083133, 51.42943940813217, 50.51108831450829, 49.59246732708751, 48.67401121229976, 42.24472259489871, 53.26627197391425, 68.8718931286926, 53.26627195233724, 53.26627194211515, 1221.8765771027836, 214.58409204570512, 80.75118225311495, 115.71029011462774, 108.19592323739855, 2183.098054599145, 452.75464064344555, 99.89213071287485, 156.46549349320983, 153.63063055208028, 7810.957412171443, 179.86576056242117, 414.244863205893, 189.52962133141892, 261.9161169054375], \"loglift\": [30.0, 29.0, 28.0, 27.0, 26.0, 25.0, 24.0, 23.0, 22.0, 21.0, 20.0, 19.0, 18.0, 17.0, 16.0, 15.0, 14.0, 13.0, 12.0, 11.0, 10.0, 9.0, 8.0, 7.0, 6.0, 5.0, 4.0, 3.0, 2.0, 1.0, 0.668, 0.668, 0.668, 0.668, 0.668, 0.668, 0.668, 0.668, 0.668, 0.668, 0.6678, 0.6672, 0.6661, 0.6583, 0.6579, 0.6577, 0.6576, 0.6574, 0.6569, 0.6565, 0.6564, 0.6559, 0.6548, 0.6328, 0.6221, 0.6189, 0.6189, 0.6189, 0.6189, 0.6189, 0.6119, 0.524, 0.3143, 0.1126, 0.4414, 0.4456, 0.0977, 1.3117, 1.3116, 1.3111, 1.3109, 1.3106, 1.3106, 1.3106, 1.3104, 1.3104, 1.3104, 1.3103, 1.3102, 1.3102, 1.3101, 1.3101, 1.3101, 1.3101, 1.3101, 1.31, 1.3098, 1.3097, 1.3095, 1.3094, 1.3094, 1.3094, 1.3094, 1.3094, 1.3081, 1.3067, 1.3066, 0.6964, 0.963, 0.0045, 0.0095, 0.0352, 0.8571, 0.3853, 1.5199, 1.5197, 1.5196, 1.5195, 1.5193, 1.519, 1.519, 1.519, 1.5189, 1.5189, 1.5146, 1.5145, 1.5139, 1.5127, 1.5124, 1.5123, 1.5117, 1.5115, 1.5107, 1.5103, 1.5101, 1.5099, 1.5096, 1.5092, 1.5089, 1.5088, 1.5087, 1.5083, 1.5081, 1.5062, 1.5047, 1.5018, 1.5047, 1.5047, 1.2039, 1.3413, 1.4564, 1.3953, 1.4031, 0.7452, 1.017, 1.3651, 1.2417, 1.191, -0.3358, 1.0398, 0.3004, 0.8074, 0.5142], \"logprob\": [30.0, 29.0, 28.0, 27.0, 26.0, 25.0, 24.0, 23.0, 22.0, 21.0, 20.0, 19.0, 18.0, 17.0, 16.0, 15.0, 14.0, 13.0, 12.0, 11.0, 10.0, 9.0, 8.0, 7.0, 6.0, 5.0, 4.0, 3.0, 2.0, 1.0, -2.6191, -2.6191, -2.6193, -2.6195, -2.6195, -2.6187, -2.6187, -2.615, -2.6145, -2.6165, -3.4276, -4.5141, -5.2791, -6.8098, -6.6399, -6.8692, -6.8543, -6.8545, -6.3592, -6.3506, -6.3506, -6.8122, -6.8571, -6.3564, -8.3867, -8.39, -8.39, -8.39, -8.39, -8.39, -6.7479, -6.8496, -4.5435, -2.5546, -6.471, -6.8908, -6.8227, -4.5993, -4.6927, -4.8709, -4.9396, -5.0406, -5.0406, -5.0687, -5.0736, -5.0641, -5.1274, -5.153, -5.1634, -5.1845, -5.1793, -5.2115, -5.2115, -5.217, -5.217, -5.2281, -5.2797, -5.2915, -5.3464, -5.3591, -5.3718, -5.3783, -5.3848, -5.3848, -5.619, -5.8496, -5.8601, -3.2456, -4.641, -2.6627, -4.5129, -4.8227, -5.2054, -5.1299, -3.6751, -3.8609, -3.9137, -4.0203, -4.1537, -4.2939, -4.3161, -4.3359, -4.3502, -4.3531, -5.5282, -5.5377, -5.6479, -5.7962, -5.8338, -5.2834, -5.8732, -5.8867, -6.0154, -6.0622, -6.0784, -6.0949, -6.1117, -6.1635, -6.0796, -6.1815, -6.1996, -6.2184, -6.2373, -6.3808, -6.1506, -5.8965, -6.1506, -6.1506, -3.3185, -4.9205, -5.7828, -5.4841, -5.5435, -3.1969, -4.4982, -5.6613, -5.336, -5.405, -3.003, -5.3985, -5.3037, -5.5786, -5.5483]}, \"token.table\": {\"Topic\": [2, 2, 1, 2, 2, 2, 3, 1, 3, 2, 3, 1, 3, 1, 3, 1, 2, 1, 1, 2, 3, 2, 2, 3, 2, 3, 2, 2, 2, 1, 3, 1, 3, 3, 1, 1, 1, 3, 1, 3, 1, 1, 3, 2, 2, 3, 2, 3, 2, 3, 2, 3, 1, 2, 3, 1, 3, 1, 2, 3, 3, 3, 1, 1, 2, 3, 2, 3, 2, 3, 1, 2, 2, 3, 1, 3, 2, 2, 3, 3, 2, 2, 3, 2, 1, 2, 1, 2, 3, 1, 3, 3, 2, 2, 1, 2, 3, 1, 3, 3, 1, 3, 1, 3, 1, 3, 1, 3, 3, 1, 2, 3, 3, 3, 2, 3, 2, 1, 2, 1, 2, 2, 2, 3, 3, 3, 1, 3, 1, 3, 2, 3, 1, 1, 2, 3, 3, 2, 1, 3, 1, 2, 3, 3, 1, 2, 3, 2, 3, 1, 3], \"Freq\": [0.9977570448205169, 0.9962616403000686, 0.999822934637335, 0.9964281917873942, 0.9946287295172099, 0.9946620773647049, 0.998822353715838, 0.7949065521408305, 0.19649375446177833, 0.00794793990467628, 0.9934924880845349, 0.0187736059412929, 0.9762275089472308, 0.9922802096083336, 0.9923581777191667, 0.999822934637335, 0.9952254334285023, 0.9998599455805757, 0.06990266546322124, 0.09786373164850974, 0.8341718078611069, 0.9963677791330181, 0.9987890299101108, 0.999533635067097, 0.9938041374906276, 0.9933514976820379, 0.9917435714394474, 0.9982407285340565, 0.9970261134867648, 0.018773605948897678, 0.9762275093426793, 0.11234955842839582, 0.8815119199766441, 0.9942070256385525, 0.9999014901951377, 0.9848422947458427, 0.01877360595250044, 0.9762275095300228, 0.9922751889426918, 0.016266806376109704, 0.9997598894258762, 0.944820568036569, 0.9872237137252771, 0.9945541827785814, 0.06191859809962258, 0.9411626911142632, 0.24286505063590327, 0.7541598940799101, 0.9923684471337354, 0.9975396941544467, 0.37805972513818753, 0.6171269042696885, 0.864079741818533, 0.05666096667662512, 0.07082620834578139, 0.999569461946521, 0.9799772674086584, 0.944793138435681, 0.2798921012396883, 0.7160030496829235, 0.9834928283940465, 0.9989747561897218, 0.9448205679148051, 0.7016501149206243, 0.27814188894895875, 0.019458486058157608, 0.1109099089960178, 0.8872792719681424, 0.9952186617778712, 0.9817582732968436, 0.9997990321554278, 0.9964281917873942, 0.39535762625339166, 0.605184299404633, 0.9922803615564801, 0.9885578141771922, 0.9940384120019947, 0.014519711228663638, 0.9873403635491274, 0.9980410324128487, 0.9952051560175961, 0.5065171308084377, 0.4906884704706741, 0.9975344156405843, 0.9964581551673397, 0.9905540887017904, 0.5738092993588613, 0.27000531288439056, 0.15619084007537054, 0.9908002681358374, 0.9982313063547483, 0.9834842467300351, 0.9987888921948227, 0.9958556976532347, 0.8052249105927489, 0.13647879840555066, 0.06823939920277533, 0.9916602701851643, 0.009818418516684795, 0.9972581710620003, 0.9907685547331276, 0.009907685547331275, 0.9916602987133123, 0.009818418799141705, 0.5672074335897143, 0.43215804463978225, 0.9808935086340784, 0.9898668902297418, 0.9975226355302668, 0.944820568097808, 0.6337907035325087, 0.36652956348867965, 0.9898816610062727, 0.9880532798826103, 0.9970261134867648, 0.9992286635306867, 0.9969961768286265, 0.9998425859575785, 0.9974964649415001, 0.944820568056535, 0.9957446569956749, 0.9980751230599736, 0.2717132042805927, 0.7283878066558057, 0.9861525443350057, 0.9982598344399845, 0.9501029897955551, 0.055888411164444415, 0.9999014893056424, 0.9963718163229046, 0.5396001327188674, 0.46035495193757364, 0.9448205680069287, 0.9998622287329233, 0.9987702501364927, 0.9958852319509413, 0.9972353229026617, 0.9980751230599736, 0.9644426527070211, 0.028933279581210634, 0.9998622286964605, 0.9952122382772837, 0.9851554586330135, 0.9916499302136227, 0.9996543728582648, 0.7048970933282681, 0.2945117992672901, 0.14015118007884855, 0.8509178790501519, 0.9981540624871139, 0.9971337034345421], \"Term\": [\"adem\", \"afc\", \"aksesoris\", \"anaklolina\", \"angkat\", \"anies\", \"anthony\", \"arifuddin\", \"arifuddin\", \"asean\", \"asean\", \"asian\", \"asian\", \"ati\", \"australia\", \"ayobantu\", \"bahasa\", \"baju\", \"bali\", \"bali\", \"bali\", \"baswedan\", \"belajar\", \"belanda\", \"berita\", \"berlayar\", \"bermain\", \"bugis\", \"bungkam\", \"campaign\", \"campaign\", \"ceo\", \"ceo\", \"ceres\", \"cewek\", \"cina\", \"clubs\", \"clubs\", \"co\", \"co\", \"coba\", \"dinsosmks\", \"dm\", \"eh\", \"fc\", \"fc\", \"februari\", \"februari\", \"ganteng\", \"gelandang\", \"grup\", \"grup\", \"hahaha\", \"hahaha\", \"hahaha\", \"hai\", \"hasil\", \"holdak\", \"indonesia\", \"indonesia\", \"indonesian\", \"indostransfer\", \"inewstvmakassar\", \"iya\", \"iya\", \"iya\", \"jakarta\", \"jakarta\", \"jalan\", \"jawara\", \"jual\", \"kad\", \"kah\", \"kah\", \"kakek\", \"kapal\", \"karniilyas\", \"kaya\", \"kaya\", \"klok\", \"ko\", \"kota\", \"kota\", \"lalenok\", \"loleng\", \"lolos\", \"makassar\", \"makassar\", \"makassar\", \"manteman\", \"marc\", \"marege\", \"mari\", \"mas\", \"medan\", \"medan\", \"medan\", \"membenarkan\", \"membenarkan\", \"memboyong\", \"mendatangk\", \"mendatangk\", \"menjalin\", \"menjalin\", \"munafri\", \"munafri\", \"nenek\", \"nur\", \"official\", \"officialrcti\", \"orang\", \"orang\", \"padewakang\", \"pe\", \"pembicaraan\", \"persija\", \"piala\", \"pinbb\", \"pohon\", \"polsekmakassar\", \"poppelangi\", \"protokol\", \"psm\", \"psm\", \"ready\", \"resmi\", \"restichayah\", \"restichayah\", \"retweet\", \"rovers\", \"rt\", \"rt\", \"rtmcsulsel\", \"sepatu\", \"seribu\", \"shan\", \"tampines\", \"tebang\", \"terbaru\", \"terbaru\", \"tokotamz\", \"tol\", \"tradisional\", \"transfer\", \"tsu\", \"united\", \"united\", \"vs\", \"vs\", \"vv\", \"zone\"]}, \"R\": 30, \"lambda.step\": 0.01, \"plot.opts\": {\"xlab\": \"PC1\", \"ylab\": \"PC2\"}, \"topic.order\": [1, 3, 2]};\n",
       "\n",
       "function LDAvis_load_lib(url, callback){\n",
       "  var s = document.createElement('script');\n",
       "  s.src = url;\n",
       "  s.async = true;\n",
       "  s.onreadystatechange = s.onload = callback;\n",
       "  s.onerror = function(){console.warn(\"failed to load library \" + url);};\n",
       "  document.getElementsByTagName(\"head\")[0].appendChild(s);\n",
       "}\n",
       "\n",
       "if(typeof(LDAvis) !== \"undefined\"){\n",
       "   // already loaded: just create the visualization\n",
       "   !function(LDAvis){\n",
       "       new LDAvis(\"#\" + \"ldavis_el180415220545140327335353607\", ldavis_el180415220545140327335353607_data);\n",
       "   }(LDAvis);\n",
       "}else if(typeof define === \"function\" && define.amd){\n",
       "   // require.js is available: use it to load d3/LDAvis\n",
       "   require.config({paths: {d3: \"https://cdnjs.cloudflare.com/ajax/libs/d3/3.5.5/d3.min\"}});\n",
       "   require([\"d3\"], function(d3){\n",
       "      window.d3 = d3;\n",
       "      LDAvis_load_lib(\"https://cdn.rawgit.com/bmabey/pyLDAvis/files/ldavis.v1.0.0.js\", function(){\n",
       "        new LDAvis(\"#\" + \"ldavis_el180415220545140327335353607\", ldavis_el180415220545140327335353607_data);\n",
       "      });\n",
       "    });\n",
       "}else{\n",
       "    // require.js not available: dynamically load d3 & LDAvis\n",
       "    LDAvis_load_lib(\"https://cdnjs.cloudflare.com/ajax/libs/d3/3.5.5/d3.min.js\", function(){\n",
       "         LDAvis_load_lib(\"https://cdn.rawgit.com/bmabey/pyLDAvis/files/ldavis.v1.0.0.js\", function(){\n",
       "                 new LDAvis(\"#\" + \"ldavis_el180415220545140327335353607\", ldavis_el180415220545140327335353607_data);\n",
       "            })\n",
       "         });\n",
       "}\n",
       "</script>"
      ],
      "text/plain": [
       "PreparedData(topic_coordinates=              x         y  topics  cluster       Freq\n",
       "topic                                                \n",
       "0      0.344862  0.003469       1        1  51.266938\n",
       "2     -0.167194 -0.173078       2        1  26.880258\n",
       "1     -0.177668  0.169609       3        1  21.852804, topic_info=      Category         Freq      Term        Total  loglift  logprob\n",
       "4401   Default  4221.000000      jual  4221.000000  30.0000  30.0000\n",
       "1909   Default  4220.000000      coba  4220.000000  29.0000  29.0000\n",
       "958    Default  4213.000000      baju  4213.000000  28.0000  28.0000\n",
       "8210   Default  4204.000000   retweet  4204.000000  27.0000  27.0000\n",
       "1798   Default  4204.000000     cewek  4204.000000  26.0000  26.0000\n",
       "...        ...          ...       ...          ...      ...      ...\n",
       "5560    Topic3  1220.093228  makassar  7810.957412  -0.3358  -3.0030\n",
       "3475    Topic3   111.180117      grup   179.865761   1.0398  -5.3985\n",
       "10040   Topic3   122.240442    united   414.244863   0.3004  -5.3037\n",
       "5076    Topic3    92.856648      kota   189.529621   0.8074  -5.5786\n",
       "6964    Topic3    95.716992     orang   261.916117   0.5142  -5.5483\n",
       "\n",
       "[153 rows x 6 columns], token_table=       Topic      Freq        Term\n",
       "term                              \n",
       "88         2  0.997757        adem\n",
       "154        2  0.996262         afc\n",
       "273        1  0.999823   aksesoris\n",
       "457        2  0.996428  anaklolina\n",
       "561        2  0.994629      angkat\n",
       "...      ...       ...         ...\n",
       "10040      3  0.294512      united\n",
       "10191      2  0.140151          vs\n",
       "10191      3  0.850918          vs\n",
       "10194      1  0.998154          vv\n",
       "10540      3  0.997134        zone\n",
       "\n",
       "[151 rows x 3 columns], R=30, lambda_step=0.01, plot_opts={'xlab': 'PC1', 'ylab': 'PC2'}, topic_order=[1, 3, 2])"
      ]
     },
     "execution_count": 12,
     "metadata": {},
     "output_type": "execute_result"
    }
   ],
   "source": [
    "# %matplotlib inline\n",
    "# Mari kita Plot, supaya lebih jelas\n",
    "# Catatan, bergantung dari laptop yang digunakan, image terkadang cukup lama untuk muncul.\n",
    "import pyLDAvis, pyLDAvis.sklearn; pyLDAvis.enable_notebook()\n",
    "\n",
    "pyLDAvis.sklearn.prepare(lda, tf, tf_vectorizer)  "
   ]
  },
  {
   "cell_type": "markdown",
   "metadata": {},
   "source": [
    "# Bagaimana jika kita ingin menggunakan semi-supervised (guided) LDA?\n",
    "https://medium.freecodecamp.org/how-we-changed-unsupervised-lda-to-semi-supervised-guidedlda-e36a95f3a164 "
   ]
  },
  {
   "cell_type": "markdown",
   "metadata": {},
   "source": [
    "# Bagaimana melakukan Post-Tag sebelum Topic Modelling?"
   ]
  },
  {
   "cell_type": "code",
   "execution_count": 17,
   "metadata": {},
   "outputs": [],
   "source": [
    "from spacy.lang.id import Indonesian\n",
    "from nltk.tag import CRFTagger\n",
    "nlp_id = Indonesian()  # Language Model\n",
    "ct = CRFTagger()\n",
    "ct.set_model_file('data/all_indo_man_tag_corpus_model.crf.tagger')\n",
    "\n",
    "def NLPfilter(t, filters):\n",
    "    tokens = nlp_id(t)\n",
    "    tokens = [str(k) for k in tokens if len(k)>2]\n",
    "    hasil = ct.tag_sents([tokens])\n",
    "    return [k[0] for k in hasil[0] if k[1] in filters]"
   ]
  },
  {
   "cell_type": "code",
   "execution_count": 18,
   "metadata": {},
   "outputs": [
    {
     "data": {
      "application/vnd.jupyter.widget-view+json": {
       "model_id": "0c940f6bce33459cb79924b7bdec619f",
       "version_major": 2,
       "version_minor": 0
      },
      "text/plain": [
       "HBox(children=(IntProgress(value=1, bar_style='info', max=1), HTML(value='')))"
      ]
     },
     "metadata": {},
     "output_type": "display_data"
    },
    {
     "name": "stdout",
     "output_type": "stream",
     "text": [
      "\n"
     ]
    },
    {
     "data": {
      "text/plain": [
       "'baju aksesoris cewek makassar'"
      ]
     },
     "execution_count": 18,
     "metadata": {},
     "output_type": "execute_result"
    }
   ],
   "source": [
    "filters = set(['NN', 'NNP', 'NNS', 'NNPS', 'JJ'])\n",
    "\n",
    "for i, d in tqdm(enumerate(data)):\n",
    "    data[i] = NLPfilter(d,filters)\n",
    "\n",
    "' '.join(data[1])"
   ]
  },
  {
   "cell_type": "code",
   "execution_count": 20,
   "metadata": {},
   "outputs": [
    {
     "name": "stdout",
     "output_type": "stream",
     "text": [
      "[['reishaac', 'makassar', 'bias', 'orang', 'tukang', 'promosi', 'disaat', 'member', 'masker', 'alasan', 'dunia', 'ketampanan', 'member', 'tertua', 'grup'], ['baju', 'aksesoris', 'cewek', 'makassar'], ['ayobantu', 'retweet', 'tokotamz', 'pinbb', 'baju', 'aksesoris', 'cewek', 'makassar']]\n"
     ]
    }
   ],
   "source": [
    "print(data[:3])"
   ]
  },
  {
   "cell_type": "markdown",
   "metadata": {},
   "source": [
    "# Evaluasi: Bagaimana mendapatkan parameter Optimal Topic Modelling?\n",
    "\n",
    "**Beberapa catatan penting**:\n",
    "1. Hati-hati Struktur Data, untuk melakukan evaluasi Topic Modelling struktur data yang digunakan mirip dengan Word Embedding.\n",
    "2. Kita akan melakukan cross-validasi dan N-Gram\n",
    "3. Ada berbagai metric evaluasi https://radimrehurek.com/gensim/models/coherencemodel.html\n",
    "4. Referensi paper: http://svn.aksw.org/papers/2015/WSDM_Topic_Evaluation/public.pdf"
   ]
  },
  {
   "cell_type": "code",
   "execution_count": 21,
   "metadata": {},
   "outputs": [
    {
     "name": "stdout",
     "output_type": "stream",
     "text": [
      "Number of unique tokens: 578\n",
      "Number of documents: 10000\n",
      "[[(0, 1), (1, 1), (2, 1), (3, 1)]]\n"
     ]
    }
   ],
   "source": [
    "bigram_t = Phrases(data, min_count=10)\n",
    "trigram_t = Phrases(bigram_t[data])\n",
    "for idx, d in enumerate(data):\n",
    "    for token in bigram_t[d]:\n",
    "        if '_' in token:# Token is a bigram, add to document.\n",
    "            data[idx].append(token)\n",
    "    for token in trigram_t[d]:\n",
    "        if '_' in token:# Token is a bigram, add to document.\n",
    "            data[idx].append(token)\n",
    "\n",
    "# Create a dictionary representation of the documents.\n",
    "# Remove rare & common tokens\n",
    "dictionary_t = Dictionary(data)\n",
    "dictionary_t.filter_extremes(no_below=10, no_above=0.2)\n",
    "#Create dictionary and corpus required for Topic Modeling\n",
    "corpus_t = [dictionary_t.doc2bow(doc) for doc in data]\n",
    "print('Number of unique tokens: %d' % len(dictionary_t))\n",
    "print('Number of documents: %d' % len(corpus_t))\n",
    "print(corpus_t[:1])\n"
   ]
  },
  {
   "cell_type": "code",
   "execution_count": 22,
   "metadata": {},
   "outputs": [],
   "source": [
    "def compute_coherence_values(dictionary, corpus, texts, limit, coherence='c_v', start=2, step=3):\n",
    "    coherence_values = []\n",
    "    model_list = []\n",
    "    for num_topics in tqdm(range(start, limit, step)):\n",
    "        model=LdaModel(corpus=corpus, id2word=dictionary, num_topics=num_topics)\n",
    "        model_list.append(model)\n",
    "        coherencemodel = CoherenceModel(model=model, texts=texts, dictionary=dictionary, coherence=coherence)\n",
    "        coherence_values.append(coherencemodel.get_coherence())\n",
    "\n",
    "    return model_list, coherence_values"
   ]
  },
  {
   "cell_type": "markdown",
   "metadata": {},
   "source": [
    "# Caution cell berikut ini membutuhkan waktu yang cukup signifikan untuk selesai, karena selain LDA *computationally expensive* loopingnya juga melakukan Cross-validasi di setiap jumlah topik *k*"
   ]
  },
  {
   "cell_type": "code",
   "execution_count": 23,
   "metadata": {},
   "outputs": [
    {
     "data": {
      "application/vnd.jupyter.widget-view+json": {
       "model_id": "32452633e0f94f6d8d5fc2f7008b5ecd",
       "version_major": 2,
       "version_minor": 0
      },
      "text/plain": [
       "HBox(children=(IntProgress(value=0, max=3), HTML(value='')))"
      ]
     },
     "metadata": {},
     "output_type": "display_data"
    },
    {
     "data": {
      "application/vnd.jupyter.widget-view+json": {
       "model_id": "6174f2c5cf1e4edcb34e21b9bd8a5a3e",
       "version_major": 2,
       "version_minor": 0
      },
      "text/plain": [
       "HBox(children=(IntProgress(value=0, max=8), HTML(value='')))"
      ]
     },
     "metadata": {},
     "output_type": "display_data"
    },
    {
     "data": {
      "application/vnd.jupyter.widget-view+json": {
       "model_id": "a5344fccb1594d488f5c489fcbf3d706",
       "version_major": 2,
       "version_minor": 0
      },
      "text/plain": [
       "HBox(children=(IntProgress(value=0, max=8), HTML(value='')))"
      ]
     },
     "metadata": {},
     "output_type": "display_data"
    },
    {
     "data": {
      "application/vnd.jupyter.widget-view+json": {
       "model_id": "bfbe4841b38744dc89ff62deec24a94a",
       "version_major": 2,
       "version_minor": 0
      },
      "text/plain": [
       "HBox(children=(IntProgress(value=0, max=8), HTML(value='')))"
      ]
     },
     "metadata": {},
     "output_type": "display_data"
    },
    {
     "name": "stdout",
     "output_type": "stream",
     "text": [
      "\n"
     ]
    },
    {
     "data": {
      "text/plain": [
       "'Done'"
      ]
     },
     "execution_count": 23,
     "metadata": {},
     "output_type": "execute_result"
    }
   ],
   "source": [
    "start, step, limit = 2, 1, 10 # Ganti dengan berapa banyak Topic yang ingin di hitung/explore\n",
    "coh_t, kCV = [], 3 # hati-hati sangat lambat karena cross validation pada metode yang memang tidak efisien (LDA)\n",
    "\n",
    "for i in tqdm(range(kCV)):\n",
    "    model_list, c = compute_coherence_values(dictionary=dictionary_t, corpus=corpus_t, texts=data, start=start, limit=limit, step=step)\n",
    "    coh_t.append(c)\n",
    "    \n",
    "coherence_t = np.mean(np.array(coh_t), axis=0)\n",
    "'Done'"
   ]
  },
  {
   "cell_type": "code",
   "execution_count": 24,
   "metadata": {},
   "outputs": [
    {
     "data": {
      "image/png": "[encoded data removed]",
      "text/plain": [
       "<Figure size 864x720 with 1 Axes>"
      ]
     },
     "metadata": {},
     "output_type": "display_data"
    }
   ],
   "source": [
    "# Show graph\n",
    "x = range(start, limit, step)\n",
    "plt.figure(figsize=(12,10))\n",
    "for c in coh_t:\n",
    "    plt.plot(x, c, '--', color = 'lawngreen', linewidth = 2)\n",
    "plt.plot(x, coherence_t, '-', color = 'black', linewidth = 5)\n",
    "plt.xlabel(\"Num Topics\")\n",
    "plt.ylabel(\"Coherence score\")\n",
    "plt.legend((\"coherence_values\"), loc='best')\n",
    "plt.show()"
   ]
  },
  {
   "cell_type": "markdown",
   "metadata": {},
   "source": [
    "# Referensi Pilihan:\n",
    "\n",
    "* perhitungan Manual Topic Modelling LDA: http://brooksandrew.github.io/simpleblog/articles/latent-dirichlet-allocation-under-the-hood/\n",
    "* http://mimno.infosci.cornell.edu/slides/details.pdf\n",
    "* https://datascienceplus.com/evaluation-of-topic-modeling-topic-coherence/\n",
    "* http://www.umiacs.umd.edu/~jbg/docs/nips2009-rtl.pdf\n",
    "* http://radimrehurek.com/topic_modeling_tutorial/2%20-%20Topic%20Modeling.html\n",
    "* Penjelasan intuitif yang baik: https://medium.com/@lettier/how-does-lda-work-ill-explain-using-emoji-108abf40fa7d \n",
    "* inconjunction dengan interactive program berikut: https://lettier.com/projects/lda-topic-modeling/ "
   ]
  },
  {
   "cell_type": "markdown",
   "metadata": {},
   "source": [
    "<p>&nbsp;</p>\n",
    "\n",
    "<h3 id=\"Non-Negative-Matrix-Decomposition-(NMF)\">Non-Negative Matrix Decomposition (NMF)</h3>\n",
    "\n",
    "<p><img alt=\"\" src=\"images/4_NMF.jpg\" style=\"height: 349px; width: 600px;\" /> [image source: <a href=\"https://www.slideshare.net/SebastianRuder/dynamic-topic-modeling-via-nonnegative-matrix-factorization-dr-derek-greene]\">https://www.slideshare.net/SebastianRuder/dynamic-topic-modeling-via-nonnegative-matrix-factorization-dr-derek-greene]</a></p>\n",
    "\n",
    "<p>&nbsp;</p>\n"
   ]
  },
  {
   "cell_type": "markdown",
   "metadata": {},
   "source": [
    "<h3 id=\"Tujuan-NMF:\">Tujuan NMF:</h3>\n",
    "\n",
    "<p><img alt=\"\" src=\"images/4_NMF_Goal.JPG\" style=\"height: 363px; width: 600px;\" /></p>\n"
   ]
  },
  {
   "cell_type": "code",
   "execution_count": 26,
   "metadata": {},
   "outputs": [
    {
     "data": {
      "application/vnd.jupyter.widget-view+json": {
       "model_id": "3d56511b27ab430baeedc18a97d12537",
       "version_major": 2,
       "version_minor": 0
      },
      "text/plain": [
       "HBox(children=(IntProgress(value=1, bar_style='info', max=1), HTML(value='')))"
      ]
     },
     "metadata": {},
     "output_type": "display_data"
    },
    {
     "name": "stdout",
     "output_type": "stream",
     "text": [
      "\n",
      "\n",
      "Topics in NMF model:\n",
      "Topic #1:\n",
      "ayobantu aksesoris tokotamz pinbb sepatu retweet cewek baju jual coba makassar hai tsu iya vv\n",
      "Topic #2:\n",
      "persija marc klok resmi memboyong anthony official gelandang belanda indostransfer psm rt makassar ceo munafri\n",
      "Topic #3:\n",
      "poppelangi mari belajar bugis bahasa rt makassar anaklolina kad pembicaraan bungkam karniilyas anies baswedan angkat\n"
     ]
    }
   ],
   "source": [
    "# Langsung Aplikasi-nya\n",
    "from sklearn.decomposition import NMF\n",
    "from sklearn.feature_extraction.text import TfidfVectorizer\n",
    "\n",
    "data = []\n",
    "for i, d in tqdm(enumerate(D)):\n",
    "    doc = tau.cleanText(d, fix=slangFixId, lemma=lemmaId, stops = set(stopId))\n",
    "    data.append(doc)\n",
    "\n",
    "\n",
    "tfidf_vectorizer = TfidfVectorizer()\n",
    "tfidf = tfidf_vectorizer.fit_transform(data)\n",
    "nmf_model = NMF(n_components = 3, random_state=0)\n",
    "nmf = nmf_model.fit(tfidf)\n",
    "\n",
    "print(\"\\nTopics in NMF model:\")\n",
    "tfidf_feature_names = tfidf_vectorizer.get_feature_names()\n",
    "tau.print_Topics(nmf, tfidf_feature_names, n_topics, Top_Words)"
   ]
  },
  {
   "cell_type": "code",
   "execution_count": 27,
   "metadata": {},
   "outputs": [
    {
     "data": {
      "text/plain": [
       "array([[7.84006501e-04, 1.08362026e-03, 1.69524500e-03],\n",
       "       [7.41342796e-02, 7.39749370e-05, 0.00000000e+00],\n",
       "       [1.38077213e-01, 0.00000000e+00, 0.00000000e+00],\n",
       "       [1.38835876e-01, 1.41600013e-04, 0.00000000e+00],\n",
       "       [1.25111554e-01, 0.00000000e+00, 3.04238706e-03],\n",
       "       [1.66746235e-03, 1.32170851e-03, 2.10846795e-03],\n",
       "       [9.23429664e-04, 4.99684080e-03, 8.05778982e-03],\n",
       "       [0.00000000e+00, 4.97002962e-03, 8.96835370e-03],\n",
       "       [0.00000000e+00, 2.24395478e-01, 0.00000000e+00],\n",
       "       [1.25924804e-03, 6.91111243e-02, 0.00000000e+00]])"
      ]
     },
     "execution_count": 27,
     "metadata": {},
     "output_type": "execute_result"
    }
   ],
   "source": [
    "# Sama seperti LDA kita bisa melihat distribusi topic setiap dokumen\n",
    "vsm_topics = nmf.transform(tfidf)\n",
    "vsm_topics[:10]"
   ]
  },
  {
   "cell_type": "code",
   "execution_count": 28,
   "metadata": {},
   "outputs": [
    {
     "data": {
      "application/vnd.jupyter.widget-view+json": {
       "model_id": "b298653af9974535a810dfe14e759eed",
       "version_major": 2,
       "version_minor": 0
      },
      "text/plain": [
       "HBox(children=(IntProgress(value=0, max=10000), HTML(value='')))"
      ]
     },
     "metadata": {},
     "output_type": "display_data"
    },
    {
     "name": "stdout",
     "output_type": "stream",
     "text": [
      "\n",
      "In total there are 3 major topics, distributed as follows\n"
     ]
    },
    {
     "data": {
      "image/png": "[encoded data removed]",
      "text/plain": [
       "<Figure size 432x288 with 1 Axes>"
      ]
     },
     "metadata": {},
     "output_type": "display_data"
    }
   ],
   "source": [
    "# Seandainya diasumsikan 1 dokumen hanya 1 topic dengan nilai skor topic terbesar\n",
    "doc_topic =  [a.argmax()+1 for a in tqdm(vsm_topics)] # topic of docs\n",
    "print('In total there are {0} major topics, distributed as follows'.format(len(set(doc_topic))))\n",
    "sns.countplot(doc_topic)\n",
    "plt.show()"
   ]
  },
  {
   "cell_type": "code",
   "execution_count": 29,
   "metadata": {},
   "outputs": [
    {
     "name": "stdout",
     "output_type": "stream",
     "text": [
      "(10000, 3) (3, 10561) 10561\n"
     ]
    }
   ],
   "source": [
    "# Perkalian Matrix-nya (Aljabar Linear)\n",
    "W = nmf_model.fit_transform(tfidf)\n",
    "H = nmf_model.components_\n",
    "terms = tfidf_vectorizer.get_feature_names()\n",
    "print(W.shape, H.shape, len(terms))\n",
    "#print(terms[:5])"
   ]
  },
  {
   "cell_type": "markdown",
   "metadata": {},
   "source": [
    "# Latihan :\n",
    "\n",
    "* Load data data tweet dengan isu berbeda, \"misal\" **revitalisasi monas, banjir, atau isu terkini lainnya**\n",
    "* Lakukan preprocessing (termasuk lemma) dan pos tag (ambil hanya noun saja)\n",
    "* Bandingkan hasil topic dari LDA, dan NMF dari data tersebut.\n",
    "* Apakah hasilnya sudah baik?\n",
    "* Buat visualisasi pyLDAvis-nya dan analisa lebih lanjut.\n"
   ]
  },
  {
   "cell_type": "markdown",
   "metadata": {
    "slideshow": {
     "slide_type": "slide"
    }
   },
   "source": [
    "# <center><font color=\"blue\"> End of Module 09\n",
    "\n",
    "<hr />\n",
    "<p><img alt=\"\" src=\"images/1_meme.jpg\" /></p>"
   ]
  }
 ],
 "metadata": {
  "celltoolbar": "Slideshow",
  "kernelspec": {
   "display_name": "Python 3",
   "language": "python",
   "name": "python3"
  },
  "language_info": {
   "codemirror_mode": {
    "name": "ipython",
    "version": 3
   },
   "file_extension": ".py",
   "mimetype": "text/x-python",
   "name": "python",
   "nbconvert_exporter": "python",
   "pygments_lexer": "ipython3",
   "version": "3.6.8"
  }
 },
 "nbformat": 4,
 "nbformat_minor": 2
}
