{
 "cells": [
  {
   "cell_type": "markdown",
   "metadata": {},
   "source": [
    "# http://tau-data.id/unhas/"
   ]
  },
  {
   "cell_type": "markdown",
   "metadata": {
    "slideshow": {
     "slide_type": "slide"
    }
   },
   "source": [
    "<center><img alt=\"\" src=\"images/0_Cover.jpg\"/></center> \n",
    "\n",
    "## <center><font color=\"blue\">Module 00: Pendahuluan dan Instalasi</font></center>\n",
    "<b><center>(C) Taufik Sutanto - 2019</center>\n",
    "<center>tau-data Indonesia ~ https://tau-data.id</center>"
   ]
  },
  {
   "cell_type": "markdown",
   "metadata": {
    "slideshow": {
     "slide_type": "slide"
    }
   },
   "source": [
    "# <font color=\"blue\">WorkShop Objectives</font>\n",
    "\n",
    "* **Memperkenalkan** Big Data (BD), Data Science (DS), Machine Learning (ML), dan Artificial Intelligence (AI) serta potensinya dalam dunia Akademis, dan industri.\n",
    "* Membahas **trend** terkini BD dan AI dan prediksi pengembangannya di masa depan.\n",
    "* Memperkenalkan tools **Python** dalam menyelesaikan beberapa teknik Data Wrangling, Exploratory Data Analysis, dan Machine Learning pada data terstruktur.\n",
    "* Memperkenalkan pengolahan **data tidak terstruktur** (teks) yang berasal dari media sosial dan website.\n",
    "* Fokus ke **Text Mining**, NLP dibahas sebagai fondasi dasar Text Mining.\n",
    "* Kasus bahasa yang akan dibahas: **Inggris** dan **Indonesia**"
   ]
  },
  {
   "cell_type": "markdown",
   "metadata": {
    "slideshow": {
     "slide_type": "slide"
    }
   },
   "source": [
    "# <font color=\"blue\">Workshop Schedule</font>\n",
    "\n",
    "<center><img alt=\"\" src=\"images/Outline.jpeg\"/></center> "
   ]
  },
  {
   "cell_type": "markdown",
   "metadata": {
    "slideshow": {
     "slide_type": "slide"
    }
   },
   "source": [
    "# <font color=\"blue\"> Hardware Requirements:</font>\n",
    "\n",
    "Python Codes yang dibahas di workshop ini telah di verifikasi di lingkungan berikut:\n",
    "\n",
    "* Python 3.6.8 (**64 bit**) & OS Windows 10/Linux (Google Colab)\n",
    "* Program yang dijalankan di workshop ini membutuhkan **koneksi internet** saat di eksekusi.\n",
    "* Dianjurkan peserta mengupdate OS (Windows/Linux) sebelum mengikuti workshop.\n",
    "* Apple Macintosh **tidak disarankan** untuk digunakan untuk keperluan pengolahan data di Data Science/Machine Learning.\n",
    "\n",
    "Ekspektasi spesifikasi komputer ( **Online/Google Colab** ):\n",
    "* None\n",
    "\n",
    "Ekspektasi spesifikasi komputer ( **offline: WinPython/Anaconda** ):\n",
    "* **OS**: Windows/Linux **64bit with recent updates**\n",
    "* RAM 4Gb or More\n",
    "* CPU minimum 1 Ghz\n"
   ]
  },
  {
   "cell_type": "markdown",
   "metadata": {
    "slideshow": {
     "slide_type": "slide"
    }
   },
   "source": [
    "# <font color=\"blue\">Instalasi\n",
    "\n",
    "1. Menggunakan Google Colab seluruh link modul dapat diakses di link berikut: https://tau-data.id/unhas/\n",
    "2. Untuk mengunduh seluruh materi workshop silahkan unduh dari link github berikut: https://github.com/taufikedys/unhas\n",
    "3. Link untuk mengunduh program Python (WinPython) beserta modul workshop juga dapat dilakukan dari Link No. 1\n",
    "4. Instalasi python offline di Linux harap dilakukan sendiri menggunakan Anaconda: https://problemsolvingwithpython.com/01-Orientation/01.05-Installing-Anaconda-on-Linux/"
   ]
  },
  {
   "cell_type": "markdown",
   "metadata": {
    "slideshow": {
     "slide_type": "slide"
    }
   },
   "source": [
    "## <font color=\"blue\">API Keys twitter (digunakan pada hari Ke-2)\n",
    "    \n",
    "* Setelah workshop hari pertama selesai, peserta \"disarankan\" untuk mendaftar twitter API Keys.\n",
    "* https://www.youtube.com/watch?v=KPHC2ygBak4\n",
    "  atau\n",
    "* https://www.youtube.com/watch?v=CvFRbHSvKAg\n",
    "* Untuk praktek scrapping peserta juga diharapkan menginstall browser <font color=\"blue\"> **FireFox** </font>\n",
    "\n",
    "### Tips dan Catatan:\n",
    "* Silahkan lakukan langkah-langkah diatas. Jika ada masalah bisa ditanyakan setelah workshop hari ke-1.\n",
    "* Saat mendaftar API Keys twitter sampaikan bahwa alasan kita apply adalah untuk keperluan riset/academic. Bagi pekerja dapat memberikan alasan \"mengembangkan App untuk client\".\n",
    "* Karena keterbatasan waktu, di workshop ini kita hanya akan menggunakan twitter."
   ]
  },
  {
   "cell_type": "markdown",
   "metadata": {},
   "source": [
    "# <font color=\"blue\">Resources Tambahan\n",
    "\n",
    "* Di setiap slide/cell biasanya terdapat link (tautan) pada istilah/konsep tertentu.\n",
    "* https://tau-data.id\n",
    "\n",
    "## Daftar Pustaka\n",
    "    \n",
    "* Chopra, D., Joshi, N., &amp; Mathur, I. (2016).&nbsp;<em>Mastering Natural Language Processing with Python. Packt Publishing Ltd.\n",
    "* Siddhartha Chatterjee, Michal Krystyanczuk. (2017).Python Social Media Analytics. Packt Publishing Ltd.\n",
    "* Farzindar, A., &amp; Inkpen, D. (2017). Natural language processing for social media. Synthesis Lectures on Human Language Technologies, 10(2), 1-195.\n",
    "* Kao, A., &amp; Poteet, S. R. (Eds.). (2007). Natural language processing and text mining. Springer Science Business Media.\n",
    "* Perkins, J. (2014). Python 3 Text Processing with NLTK 3 Cookbook. Packt Publishing Ltd.\n",
    "\n",
    "* Referensi eBook gratis: https://www.learndatasci.com/free-data-science-books/"
   ]
  },
  {
   "cell_type": "markdown",
   "metadata": {
    "slideshow": {
     "slide_type": "slide"
    }
   },
   "source": [
    "# <center><font color=\"blue\"> End of Module I.\n",
    "\n",
    "<hr />\n",
    "<img alt=\"\" src=\"images/meme_03.jpg\"/>"
   ]
  }
 ],
 "metadata": {
  "celltoolbar": "Slideshow",
  "kernelspec": {
   "display_name": "Python 3",
   "language": "python",
   "name": "python3"
  },
  "language_info": {
   "codemirror_mode": {
    "name": "ipython",
    "version": 3
   },
   "file_extension": ".py",
   "mimetype": "text/x-python",
   "name": "python",
   "nbconvert_exporter": "python",
   "pygments_lexer": "ipython3",
   "version": "3.6.8"
  }
 },
 "nbformat": 4,
 "nbformat_minor": 2
}
