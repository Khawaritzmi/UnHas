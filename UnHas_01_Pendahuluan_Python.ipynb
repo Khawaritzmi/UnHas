{
 "cells": [
  {
   "cell_type": "markdown",
   "metadata": {},
   "source": [
    "# http://tau-data.id/unhas/"
   ]
  },
  {
   "cell_type": "markdown",
   "metadata": {
    "slideshow": {
     "slide_type": "slide"
    }
   },
   "source": [
    "<center><img alt=\"\" src=\"images/0_Cover.jpg\"/></center> \n",
    "\n",
    "## <center><font color=\"blue\">Module 01: Pendahuluan Python</font></center>\n",
    "<b><center>(C) Taufik Sutanto - 2019</center>\n",
    "<center>tau-data Indonesia ~ https://tau-data.id</center>"
   ]
  },
  {
   "cell_type": "markdown",
   "metadata": {
    "slideshow": {
     "slide_type": "slide"
    }
   },
   "source": [
    "# <font color=\"blue\">Workshop Schedule</font>\n",
    "\n",
    "<center><img alt=\"\" src=\"images/Outline.jpeg\"/></center> "
   ]
  },
  {
   "cell_type": "markdown",
   "metadata": {
    "slideshow": {
     "slide_type": "slide"
    }
   },
   "source": [
    "# <font color=\"blue\"> Hardware Requirements:</font>\n",
    "\n",
    "Python Codes yang dibahas di workshop ini telah di verifikasi di lingkungan berikut:\n",
    "\n",
    "* Python 3.6.8 (**64 bit**) & OS Windows 10/Linux (Google Colab)\n",
    "* Program yang dijalankan di workshop ini membutuhkan **koneksi internet** saat di eksekusi.\n",
    "* Dianjurkan peserta mengupdate OS (Windows/Linux) sebelum mengikuti workshop.\n",
    "* Apple Macintosh **tidak disarankan** untuk digunakan untuk keperluan pengolahan data di Data Science/Machine Learning.\n",
    "\n",
    "Ekspektasi spesifikasi komputer ( **Online/Google Colab** ):\n",
    "* None\n",
    "\n",
    "Ekspektasi spesifikasi komputer ( **offline: WinPython/Anaconda** ):\n",
    "* **OS**: Windows/Linux **64bit with recent updates**\n",
    "* RAM 4Gb or More\n",
    "* CPU minimum 1 Ghz\n"
   ]
  },
  {
   "cell_type": "markdown",
   "metadata": {
    "slideshow": {
     "slide_type": "slide"
    }
   },
   "source": [
    "# <font color=\"blue\">Instalasi\n",
    "\n",
    "1. Menggunakan Google Colab seluruh link modul dapat diakses di link berikut: https://tau-data.id/unhas/\n",
    "2. Untuk mengunduh seluruh materi workshop silahkan unduh dari link github berikut: https://github.com/taufikedys/unhas\n",
    "3. Link untuk mengunduh program Python (WinPython) beserta modul workshop juga dapat dilakukan dari Link No. 1\n",
    "4. Instalasi python offline di Linux harap dilakukan sendiri menggunakan Anaconda: https://problemsolvingwithpython.com/01-Orientation/01.05-Installing-Anaconda-on-Linux/"
   ]
  },
  {
   "cell_type": "markdown",
   "metadata": {
    "slideshow": {
     "slide_type": "slide"
    }
   },
   "source": [
    "## <font color=\"blue\">API Keys twitter (digunakan pada hari Ke-2)\n",
    "    \n",
    "* Setelah workshop hari pertama selesai, peserta \"disarankan\" untuk mendaftar twitter API Keys.\n",
    "* https://www.youtube.com/watch?v=KPHC2ygBak4\n",
    "  atau\n",
    "* https://www.youtube.com/watch?v=CvFRbHSvKAg\n",
    "\n",
    "### Tips dan Catatan:\n",
    "* Silahkan lakukan langkah-langkah diatas. Jika ada masalah bisa ditanyakan setelah workshop hari ke-1.\n",
    "* Saat mendaftar API Keys twitter sampaikan bahwa alasan kita apply adalah untuk keperluan riset/academic. Bagi pekerja dapat memberikan alasan \"mengembangkan App untuk client\".\n",
    "* Karena keterbatasan waktu, di workshop ini kita hanya akan menggunakan twitter."
   ]
  },
  {
   "cell_type": "markdown",
   "metadata": {},
   "source": [
    "# <font color=\"blue\">Resources Tambahan\n",
    "\n",
    "* Di setiap slide/cell biasanya terdapat link (tautan) pada istilah/konsep tertentu.\n",
    "* https://tau-data.id\n",
    "\n",
    "## Daftar Pustaka\n",
    "    \n",
    "* Chopra, D., Joshi, N., &amp; Mathur, I. (2016).&nbsp;<em>Mastering Natural Language Processing with Python. Packt Publishing Ltd.\n",
    "* Siddhartha Chatterjee, Michal Krystyanczuk. (2017).Python Social Media Analytics. Packt Publishing Ltd.\n",
    "* Farzindar, A., &amp; Inkpen, D. (2017). Natural language processing for social media. Synthesis Lectures on Human Language Technologies, 10(2), 1-195.\n",
    "* Kao, A., &amp; Poteet, S. R. (Eds.). (2007). Natural language processing and text mining. Springer Science Business Media.\n",
    "* Perkins, J. (2014). Python 3 Text Processing with NLTK 3 Cookbook. Packt Publishing Ltd.\n",
    "\n",
    "* Referensi eBook gratis: https://www.learndatasci.com/free-data-science-books/"
   ]
  },
  {
   "cell_type": "markdown",
   "metadata": {},
   "source": [
    "# Outline Module\n",
    "\n",
    "<ol>\n",
    "\t<li><b>Pendahuluan:</b><br />\n",
    "\t* The Zen of Python<br />\n",
    "\t* Python distributions<br />\n",
    "\t* Python editors Jupyter &amp; Spyder<br />\n",
    "\t* Python VS (R, Julia, Matlab, Java, C, PHP, etc)<br />\n",
    "\t* Strength &amp; weakness of Python<br />\n",
    "\t* Google Colab</li>\n",
    "\t<li><b>Python Basics</b>:<br />\n",
    "\t* Syntax Format<br />\n",
    "\t&nbsp;&nbsp; (indenting, multiline, import, deklarasi/inisialisasi)<br />\n",
    "\t* Code descriptor &amp; comments<br />\n",
    "\t* integer, float, bytes, boolean<br />\n",
    "\t* list, tuple, dictionary, (Frozen) Set<br />\n",
    "\t* types : beginner pitfall<br />\n",
    "\t* Slicing in Python</li>\n",
    "    <li><b>Python Logic:</b><br />\n",
    "\t* (Nested &ndash; hierarchical) if Logic<br />\n",
    "\t* Looping For (&amp; list comprehension)<br />\n",
    "\t* Iterator VS Iterable<br />\n",
    "\t* Looping while<br />\n",
    "\t* Breaking loop<br />\n",
    "\t* Python exception<br />\n",
    "\t* TQDM</li>\n",
    "</ol>\n"
   ]
  },
  {
   "cell_type": "markdown",
   "metadata": {},
   "source": [
    "<h1 id=\"Why-Python\">Why Python (Interpreter and-or compiler)</h1>\n",
    "\n",
    "* Free\n",
    "* Community support\n",
    "* Growing in needs & popularity\n",
    "* Portable - Multi Platform\n",
    "* “Fast” http://s.id/4lP \n",
    "* Rich libraries/Modules (termasuk Matematika, Statistika, Data Science/Machine Learning, Big Data, etc)\n",
    "* Easier to learn (learning curve not steep)\n",
    "* OOP, etc\n",
    "\n",
    "<p><img alt=\"\" src=\"images/1_why_python.jpg\" style=\"width: 800px; height: 516px;\" /></p>\n"
   ]
  },
  {
   "cell_type": "markdown",
   "metadata": {},
   "source": [
    "<h2 id=\"Filosofi-&amp;-Sejarah-singkat-Python\">Filosofi &amp; Sejarah singkat Python</h2>\n",
    "\n",
    "<p>Python diperkenalkan di sekitar tahun 1980 oleh&nbsp;<strong>Guido van Rossum</strong>.</p>\n",
    "\n",
    "<p>Python memiliki system yang &quot;mirip&quot; seperti Java (multi platform dan memiliki kernel), namun lebih mudah (tanpa deklarasi variabel seperti matlab). Python juga ringan sehingga supported di IoT/SBC devices.</p>"
   ]
  },
  {
   "cell_type": "markdown",
   "metadata": {},
   "source": [
    "<h1 id=\"Python-Benchmarks\">Python Benchmarks</h1>\n",
    "\n",
    "<img alt=\"\" src=\"images/1_Python_VS_TheRest.png\" />"
   ]
  },
  {
   "cell_type": "markdown",
   "metadata": {},
   "source": [
    "<h2 id=\"Beberapa-kelemahan-Python:\">Beberapa kelemahan Python:</h2>\n",
    "\n",
    "<ol>\n",
    "\t<li>Reference to Variabel (can be a good thing - older version)</li>\n",
    "\t<li>Dependensi dan Versi Module</li>\n",
    "\t<li>Dependensi Compiler C yang spesific dan terkadang tidak konsisten</li>\n",
    "\t<li>Message Parsing (process locked) - di pemrograman paralel</li>\n",
    "</ol>\n"
   ]
  },
  {
   "cell_type": "markdown",
   "metadata": {},
   "source": [
    "# Python Distro\n",
    "\n",
    "* \"Vanilla\" Python: https://www.python.org/\n",
    "* Anaconda : https://www.anaconda.com/distribution/#download-section\n",
    "* WinPython: https://sourceforge.net/projects/winpython/files/ ==> **Recommended** for academics\n",
    "\n",
    "Catt: Kita akan menggunakan **Python 3.6**"
   ]
  },
  {
   "cell_type": "markdown",
   "metadata": {},
   "source": [
    "# Python IDE: Jupyter VS Spyder\n",
    "\n",
    "* Jupyter: Not just Codes\n",
    "* Spyder: IDE - Integrated development environment\n",
    "* PyCharm\n",
    "* NotedPad++\n",
    "* Python hanya membutuhkan (sembarang) text + Terminal (misal command Prompt)"
   ]
  },
  {
   "cell_type": "markdown",
   "metadata": {},
   "source": [
    "# Google Colab\n",
    "\n",
    "* Cocok untuk komputer yang memiliki spesifikasi yang relatif minim. \n",
    "* Free with GPU support (penting saat nanti belajar Data Science/Machine Learning, terutama Deep Learning)\n",
    "* Google Colab dapat digunakan untuk memudahkan instalasi dan menyiapkan environment dalam menjalankan scripts Python untuk berbagai kegiatan seperti workshop, presentasi, kuliah, dsb:\n",
    "\n",
    "* https://colab.research.google.com"
   ]
  },
  {
   "cell_type": "markdown",
   "metadata": {},
   "source": [
    "<h1><font color=\"blue\">Sebelum dimulai - Resources tambahan yang sangat baik untuk belajar Python</font></h1>\n",
    "\n",
    "* Python basic: https://www.python-course.eu/python3_history_and_philosophy.php \n",
    "* Data Science Basic: https://scikit-learn.org/stable/tutorial/index.html\n",
    "* Advance Python: http://andy.terrel.us/blog/2012/09/27/starting-with-python/\n",
    "* Visualisasi di Python: https://matplotlib.org/gallery.html"
   ]
  },
  {
   "cell_type": "markdown",
   "metadata": {},
   "source": [
    "# Syntax Python (Mohon untuk di coba di jupyter dan-atau Spyder)\n",
    "\n",
    "* indenting tanpa tanda \"{}\"\n",
    "* akhir code tanpa tanda \";\", tapi bisa juga iya"
   ]
  },
  {
   "cell_type": "code",
   "execution_count": null,
   "metadata": {},
   "outputs": [],
   "source": [
    "# Python tidak membutuhkan tanda semi colon \";\" di akhir setiap baris seperti R, Java, atau C\n",
    "\n",
    "n = 5\n",
    "b = 3\n",
    "\n",
    "b, n"
   ]
  },
  {
   "cell_type": "code",
   "execution_count": null,
   "metadata": {},
   "outputs": [],
   "source": [
    "# tapi semi-colon bisa juga digunakan di Python untuk mengakhiri \"satu instruksi\"\n",
    "n = 5; b = 3\n",
    "print(b, n)\n",
    "\n",
    "# Atau\n",
    "\n",
    "a, b = 5, 3\n",
    "a, b  # di Jupyter perintah PRINT tidak dibutuhkan jika variabel yang ingin dilihat nilainya berada di baris terakhir."
   ]
  },
  {
   "cell_type": "code",
   "execution_count": null,
   "metadata": {},
   "outputs": [],
   "source": [
    "a = 5\n",
    "b = 3\n",
    "a, b = b,a \n",
    "a, b"
   ]
  },
  {
   "cell_type": "code",
   "execution_count": null,
   "metadata": {},
   "outputs": [],
   "source": [
    "# Python menggunakan \"indenting\" dan bukan tanda kurung seperti banyak bahasa pemrograman lain\n",
    "\n",
    "if True:\n",
    "    print('ini menggunakan tab')\n",
    "    print('ini menggunakan spasi x4')\n",
    "print('teks ini sudah diluar \"IF\"')\n",
    "# inden dinyatakan dengan \"tab\" atau \"spasi 4x\""
   ]
  },
  {
   "cell_type": "code",
   "execution_count": null,
   "metadata": {},
   "outputs": [],
   "source": [
    "# Teks di python bisa menggunakan ' atau \"\n",
    "\n",
    "print(' \"hi\", text enclosed by \\'  ')\n",
    "print(\" 'hi', text enclosed by \\\" \")\n",
    "\n",
    "# tanda \"\\\" digunakan untuk merubah character khusus di python menjadi character biasa\n",
    "# Sangat berguna bagi Data Scientist saat menangani data dari database"
   ]
  },
  {
   "cell_type": "markdown",
   "metadata": {},
   "source": [
    "# Syntax Python (Mohon untuk di coba di jupyter dan Spyder)\n",
    "\n",
    "* \"import\" yang baik (misal math/numpy)\n",
    "* import alias\n",
    "* Deklarasi\n",
    "* Deklarasi multiline (it's a matter of preference)"
   ]
  },
  {
   "cell_type": "code",
   "execution_count": null,
   "metadata": {
    "scrolled": true
   },
   "outputs": [],
   "source": [
    "sin(0)"
   ]
  },
  {
   "cell_type": "code",
   "execution_count": null,
   "metadata": {},
   "outputs": [],
   "source": [
    "import math\n",
    "import numpy\n",
    "\n",
    "print(numpy.cos(0))\n",
    "math.sin(0)"
   ]
  },
  {
   "cell_type": "code",
   "execution_count": null,
   "metadata": {},
   "outputs": [],
   "source": [
    "from numpy import cos # import parsial\n",
    "from numpy import sin\n",
    "\n",
    "print(sin(3.14))\n",
    "cos(0)"
   ]
  },
  {
   "cell_type": "code",
   "execution_count": null,
   "metadata": {},
   "outputs": [],
   "source": [
    "# bisa menggunakan \"alias\" dan multi columns\n",
    "import numpy as np, math \n",
    "\n",
    "math.log10(100)"
   ]
  },
  {
   "cell_type": "code",
   "execution_count": null,
   "metadata": {},
   "outputs": [],
   "source": [
    "# Python (seperti matlab) tidak memerlukan deklarasi variabel\n",
    "a = 2.0"
   ]
  },
  {
   "cell_type": "code",
   "execution_count": null,
   "metadata": {},
   "outputs": [],
   "source": [
    "# Untuk mengetahui tipe suatu variabel kita bisa menggunakan perintah \"type\"\n",
    "print(a)\n",
    "type(a)"
   ]
  },
  {
   "cell_type": "code",
   "execution_count": null,
   "metadata": {},
   "outputs": [],
   "source": [
    "# Tapi hati-hati \"juggling variable\"\n",
    "# Analogi kaleng biscuit VS rengginang VS alat jahit\n",
    "\n",
    "a = 3.0\n",
    "print(type(a))\n",
    "type(a/3)\n",
    "# Solusi/Saran - untuk Data Science - atau Pemrograman secara umum"
   ]
  },
  {
   "cell_type": "code",
   "execution_count": null,
   "metadata": {},
   "outputs": [],
   "source": [
    "# ini komentar satu baris\n",
    "\n",
    "\"\"\"\n",
    "ini komentar beberapa baris.\n",
    "Sangat baik untuk memberi keterangan ttg suatu \"fungsi\" di Python\n",
    "Atau keterangan tambahan lainnya\n",
    "Komentar tidak di eksekusi oleh Python\n",
    "\"\"\""
   ]
  },
  {
   "cell_type": "markdown",
   "metadata": {},
   "source": [
    "# Struktur data dasar di Python \n"
   ]
  },
  {
   "cell_type": "code",
   "execution_count": null,
   "metadata": {},
   "outputs": [],
   "source": [
    "# Di Python variabel tidak perlu deklarasi (seperti matlab)\n",
    "a = 2\n",
    "b = 3.4\n",
    "c = 'teks'\n",
    "d = True"
   ]
  },
  {
   "cell_type": "code",
   "execution_count": null,
   "metadata": {
    "slideshow": {
     "slide_type": "slide"
    }
   },
   "outputs": [],
   "source": [
    "# Untuk mengetahui tipe suatu variabel kita bisa menggunakan perintah \"type\"\n",
    "type(a)"
   ]
  },
  {
   "cell_type": "code",
   "execution_count": null,
   "metadata": {},
   "outputs": [],
   "source": [
    "a = 3.4"
   ]
  },
  {
   "cell_type": "code",
   "execution_count": null,
   "metadata": {},
   "outputs": [],
   "source": [
    "# \"Array\" dasar di Python bisa berupa List, Tuple, Set atau Dictionary\n",
    "A = [2,4,1,6,4,9,7,10]\n",
    "A"
   ]
  },
  {
   "cell_type": "code",
   "execution_count": null,
   "metadata": {},
   "outputs": [],
   "source": [
    "A.sort()"
   ]
  },
  {
   "cell_type": "code",
   "execution_count": null,
   "metadata": {},
   "outputs": [],
   "source": [
    "A[::-1]"
   ]
  },
  {
   "cell_type": "code",
   "execution_count": null,
   "metadata": {},
   "outputs": [],
   "source": [
    "# Semua variable di Python adalah object\n",
    "A"
   ]
  },
  {
   "cell_type": "code",
   "execution_count": null,
   "metadata": {},
   "outputs": [],
   "source": [
    "A.append(33)\n",
    "print(A)"
   ]
  },
  {
   "cell_type": "code",
   "execution_count": null,
   "metadata": {},
   "outputs": [],
   "source": [
    "# Hati-hati\n",
    "A.append([10,11])\n",
    "A"
   ]
  },
  {
   "cell_type": "code",
   "execution_count": null,
   "metadata": {},
   "outputs": [],
   "source": [
    "# Gunakan \"Extend\"\n",
    "A = [2,4,1,6,4,9,7,10]\n",
    "A.extend([99,33])\n",
    "A"
   ]
  },
  {
   "cell_type": "code",
   "execution_count": null,
   "metadata": {},
   "outputs": [],
   "source": [
    "dir(A)"
   ]
  },
  {
   "cell_type": "code",
   "execution_count": null,
   "metadata": {},
   "outputs": [],
   "source": [
    "# Alternatif\n",
    "A = [2,4,1,6,4,9,7,10]\n",
    "B = [99, 33]\n",
    "A+B"
   ]
  },
  {
   "cell_type": "code",
   "execution_count": null,
   "metadata": {},
   "outputs": [],
   "source": [
    "A.pop()\n",
    "A"
   ]
  },
  {
   "cell_type": "markdown",
   "metadata": {},
   "source": [
    "## List VS Tuple VS SET VS Dictionary"
   ]
  },
  {
   "cell_type": "code",
   "execution_count": null,
   "metadata": {},
   "outputs": [],
   "source": [
    "A = [9,2,4,1] # List - weight - parameter/weight\n",
    "T = (9,2,4,1) # Tuple - imutable - data\n",
    "H = set([3,4,5,6,99, 99, 99]) # No order/urutan\n",
    "D = {'a':33, 56:'xyz', 8:[3,4], 9:True}"
   ]
  },
  {
   "cell_type": "code",
   "execution_count": null,
   "metadata": {},
   "outputs": [],
   "source": [
    "# Slicing & Modifying"
   ]
  },
  {
   "cell_type": "markdown",
   "metadata": {},
   "source": [
    "# Di data science kapan sebaiknya menggunakan List, Tuple, Set, dan dictionary?"
   ]
  },
  {
   "cell_type": "markdown",
   "metadata": {},
   "source": [
    "# hati-hati Boolean Trap di Python\n",
    "\n",
    "Unfortunately it is not as easy in real life as it is in Python to differentiate between **true and false**: \n",
    "The following objects are evaluated by Python as **False**:\n",
    "\n",
    "- numerical zero values (0, 0.0, 0.0+0.0j),\n",
    "- the Boolean value False,\n",
    "- empty strings,\n",
    "- empty lists and empty tuples,\n",
    "- empty dictionaries.\n",
    "- special value \"None\".\n",
    "\n",
    "**All other values are considered to be True**"
   ]
  },
  {
   "cell_type": "code",
   "execution_count": null,
   "metadata": {},
   "outputs": [],
   "source": [
    "x = 0\n",
    "if x:\n",
    "    print('x dianggap BENAR oleh Python')\n",
    "else:\n",
    "    print('x dianggap SALAH oleh Python')"
   ]
  },
  {
   "cell_type": "markdown",
   "metadata": {},
   "source": [
    "# Usecase logic diatas\n",
    "\n",
    "* Pengolahan data media sosial\n",
    "* Pengolahan data dari database\n",
    "* Not so useful pada data terstruktur yang preprocessed/tidak noisy"
   ]
  },
  {
   "cell_type": "markdown",
   "metadata": {},
   "source": [
    "<h1 id=\"Pendahuluan-Logika-Percabangan-(Conditional-Statement)---IF-\"><font color=\"blue\">Pendahuluan Logika Percabangan (Conditional Statement) - IF </font></h1>\n",
    "\n",
    "<ul>\n",
    "\t<li>Bentuk (unit) paling dasar dari kecerdasan buatan atau pembelajaran komputer, dahulu disebut sebagai <em>explicit rules machine learning</em> (but of course it&#39;s not AI ... :)).</li>\n",
    "\t<li>Bentuk umumnya:<br />\n",
    "\t<strong>IF</strong> (<em>kondisi</em>) <strong>MAKA</strong> (<em>tindakan</em>)</li>\n",
    "\t<li>Syarat utamanya adalah &quot;kondisi/syarat&quot; harus bernilai Boolean (True/False), sedangkan tindakan bisa apa saja.</li>\n",
    "</ul>\n",
    "<p><img alt=\"\" src=\"images/4_Cond_Statement_as_ML0.png\" style=\"width: 800px ; height: 300px\" /></p>\n"
   ]
  },
  {
   "cell_type": "markdown",
   "metadata": {},
   "source": [
    "<h1><font color=\"blue\">Telaah Komponen Percabangan - IF </font></h1>\n",
    "\n",
    "<p><font color=\"blue\"><img alt=\"\" src=\"images/4_IF_Components_.png\" style=\"width: 800px; height: 424px;\" /></font></p>"
   ]
  },
  {
   "cell_type": "code",
   "execution_count": null,
   "metadata": {},
   "outputs": [],
   "source": [
    "# Bentuk paling sederhana\n",
    "\n",
    "x = input('Masukkan nilai x = ') # input by default dikenali sebagai \"string/characters\"\n",
    "if int(x)<0: # sehingga perlu dirubah ke \"integer\" dengan perintah \"int\"\n",
    "    print('x negatif')\n",
    "else:\n",
    "    print('x bukan negatif')"
   ]
  },
  {
   "cell_type": "code",
   "execution_count": null,
   "metadata": {},
   "outputs": [],
   "source": [
    "# Boolean Statements in Python\n",
    "a = False \n",
    "b = True\n",
    "\n",
    "print(\"AND: \", a & b, \", ATAU: \",  a and b)\n",
    "print(\"OR:  \", a | b, \", ATAU: \",  a or b)"
   ]
  },
  {
   "cell_type": "code",
   "execution_count": null,
   "metadata": {},
   "outputs": [],
   "source": [
    "n = int(input('n = '))\n",
    "\n",
    "if n%2==0:\n",
    "    print('genap')\n",
    "elif(n%2==1):\n",
    "    print('ganjil')\n",
    "else:\n",
    "    print('neither')\n"
   ]
  },
  {
   "cell_type": "markdown",
   "metadata": {},
   "source": [
    "## <font color=\"blue\"> Exceptions (Try-Except): One of the reason why Python is awesome!</font>\n",
    "\n",
    "* Secara umum sebuah program sebaiknya harus memiliki \"precaution\", just in case input yang tidak diinginkan masuk ke sistem dan mengakibatkan error.\n",
    "* Istilah formal untuk hal ini adalah \"Domain Constraint\".\n",
    "* Pada dasarnya hampir semua bahasa pemrograman (dan database) mampu melakukan domain constraint. Namun di Python dapat dilakukan dengan jauuuuhhh lebih sederhana (simple)"
   ]
  },
  {
   "cell_type": "code",
   "execution_count": null,
   "metadata": {},
   "outputs": [],
   "source": [
    "n = 5\n",
    "try:\n",
    "    print( 'nilai fungsi = ', (n**2-1) / ( (n-1)*(n-5)*(n-7) ) )\n",
    "except:\n",
    "    print(\"I can't divide by 0 ... please try other integer\")"
   ]
  },
  {
   "cell_type": "markdown",
   "metadata": {},
   "source": [
    "# <font color=\"blue\"> Pendahuluan Loop di Python </font>\n",
    "\n",
    "<p><font color=\"blue\"><img alt=\"\" src=\"images/3_Looping_Components.png\" style=\"width: 800px; height: 424px;\" /></font></p>\n"
   ]
  },
  {
   "cell_type": "markdown",
   "metadata": {},
   "source": [
    "# <font color=\"blue\"> Loop in Python and why it looks like an algorithm :) </font>\n",
    "\n",
    "* But first, let's talk about \"**range function**\" in Python"
   ]
  },
  {
   "cell_type": "code",
   "execution_count": null,
   "metadata": {},
   "outputs": [],
   "source": [
    "# Fungsi Range di Python\n",
    "list( range(7) ) "
   ]
  },
  {
   "cell_type": "code",
   "execution_count": null,
   "metadata": {},
   "outputs": [],
   "source": [
    "print(list(range(2)))\n",
    "print(list(range(1, 5)))\n",
    "print(list(range(1, 5, 2)))\n",
    "print(list(range(5, -3, -2)))"
   ]
  },
  {
   "cell_type": "code",
   "execution_count": null,
   "metadata": {},
   "outputs": [],
   "source": [
    "for i in range(7):\n",
    "    print(i)"
   ]
  },
  {
   "cell_type": "code",
   "execution_count": null,
   "metadata": {},
   "outputs": [],
   "source": [
    "A = [45, 60, 75, 99, 30]\n",
    "\n",
    "for i, a in enumerate(A):\n",
    "    A[i] = 20 +a\n",
    "A"
   ]
  },
  {
   "cell_type": "markdown",
   "metadata": {},
   "source": [
    "<h1><font color=\"blue\">Kasus sederhana data science: Skewness dan Transformasi Data </font></h1>\n",
    "\n",
    "<img alt=\"\" src=\"images/3_data_transformation.png\" style=\"width: 769px; height: 404px;\" />\n"
   ]
  },
  {
   "cell_type": "markdown",
   "metadata": {},
   "source": [
    "<h1><font color=\"blue\">Contoh Inverse Transformation : Cara 1 </font></h1>"
   ]
  },
  {
   "cell_type": "code",
   "execution_count": null,
   "metadata": {},
   "outputs": [],
   "source": [
    "# Contoh 1 bagaimana mentransform suatu data\n",
    "A = [99,89,80,50,25,12,11,10,9,8,7,6,5,4,3,2,1, -1]\n",
    "B = [] # inisialisasi dengan array (list) kosong\n",
    "for datum in A:\n",
    "    B.append(1/datum) # APPEND adalah perintah untuk menambahkan elemen ke suatu array (list)\n",
    "print(A)\n",
    "print(B)"
   ]
  },
  {
   "cell_type": "code",
   "execution_count": null,
   "metadata": {},
   "outputs": [],
   "source": [
    "[1/a for a in A]"
   ]
  },
  {
   "cell_type": "markdown",
   "metadata": {},
   "source": [
    "<h1><font color=\"blue\">Contoh Inverse Transformation : Cara 2 </font></h1>\n",
    "\n",
    "* Cara diatas memiliki kelemahan yang cukup serius ketika datanya besar. Apakah itu? \n",
    "* *Copy Memory*"
   ]
  },
  {
   "cell_type": "code",
   "execution_count": null,
   "metadata": {},
   "outputs": [],
   "source": [
    "# Contoh 2 bagaimana mentransform suatu data\n",
    "# Kita akan menelaah lebih jauh di pertemuan setelah UTS\n",
    "A = [99,89,80,50,25,12,11,10,9,8,7,6,5,4,3,2,1]\n",
    "N = len(A)\n",
    "for i in range(N):\n",
    "    A[i] = 1/A[i] # ini disebut in-place processing. Jauh lebih hemat memory\n",
    "print(A)\n",
    "#print(N)"
   ]
  },
  {
   "cell_type": "code",
   "execution_count": null,
   "metadata": {},
   "outputs": [],
   "source": [
    "# Contoh 3 bagaimana mentransform suatu data\n",
    "# Cara yg spesifik untuk Python (recommended)\n",
    "A = [99,89,80,50,25,12,11,10,9,8,7,6,5,4,3,2,1]\n",
    "for i, a in enumerate(A): # perintah ENUMERATE di Python akan menghasilkan variable \"index\" dari \"a\" \n",
    "    A[i] = 1/a # tetap in-place processing\n",
    "print(A)"
   ]
  },
  {
   "cell_type": "markdown",
   "metadata": {},
   "source": [
    "# <font color=\"blue\"> List Comprehension: It's a Python thing</font>"
   ]
  },
  {
   "cell_type": "code",
   "execution_count": null,
   "metadata": {},
   "outputs": [],
   "source": [
    "# Contoh 4 bagaimana mentransform suatu data\n",
    "# Cara yg spesifik untuk Python (Highly recommended)\n",
    "A = [99,89,80,50,25,12,11,10,9,8,7,6,5,4,3,2,1]\n",
    "\n",
    "[1/x for x in A]  # List comprehesion secara umum lebih cepat dan sederhana"
   ]
  },
  {
   "cell_type": "markdown",
   "metadata": {},
   "source": [
    "<h1 id=\"-Pendahuluan-Indefinite-Loop---While-\"><font color=\"blue\">Pendahuluan Indefinite Loop - While </font></h1>\n",
    "\n",
    "<ol>\n",
    "\t<li>While loop digunakan saat kita hendak melakukan perulangan/iterasi, namun tidak mengetahui secara pasti jumlah perulangannya.</li>\n",
    "\t<li>Kondisi di perulangan = pencabangan IF, yaitu bernilai boolean</li>\n",
    "\t<li>Kondisi di While biasa disebut Stopper</li>\n",
    "\t<li>Stopper dapat diletakkan di awal atau akhir (Repeat-Until)</li>\n",
    "\t<li>Di dalam &quot;loop body&quot; wajib memuat suatu mekanisme yang mengakibatkan suatu saat Stopper bernilai True.</li>\n",
    "\t<li>Precautions sangat disarankan di While loop dengan memasukkan jumlah iterasi maksimum</li>\n",
    "</ol>\n",
    "\n",
    "<p><img alt=\"\" src=\"images/5_while_loop_Schema.png\" style=\"width: 280px; height: 225px;\" /></p>\n"
   ]
  },
  {
   "cell_type": "code",
   "execution_count": null,
   "metadata": {},
   "outputs": [],
   "source": [
    "# Contoh Looping While di Python\n",
    "n=7\n",
    "while n>0:\n",
    "    print(n, end = ', ')\n",
    "    n=n-1"
   ]
  },
  {
   "cell_type": "markdown",
   "metadata": {},
   "source": [
    "# TQDM awesome modul untuk loop\n",
    "\n",
    "* Sangat disarankan di data science terutama untuk proses yg kompleks atau data yang besar"
   ]
  },
  {
   "cell_type": "code",
   "execution_count": null,
   "metadata": {},
   "outputs": [],
   "source": [
    "from tqdm import tqdm # juga berfungsi di terminal unix/command prompt\n",
    "from time import sleep\n",
    "\n",
    "for i in tqdm(range(10)):\n",
    "    sleep(1) # menunggu 1 detik"
   ]
  },
  {
   "cell_type": "markdown",
   "metadata": {},
   "source": [
    "# Print to File in Python"
   ]
  },
  {
   "cell_type": "code",
   "execution_count": null,
   "metadata": {},
   "outputs": [],
   "source": [
    "f = open(\"Output_Python.txt\",\"w\") # W = write new file, a='append existing file, new file if file does not exist'\n",
    "print(\"ini output pertama\", file=f)\n",
    "f.close() # kalau tidak di close, maka bagaikan file Doc yg sedang dibuka microsoft word\n",
    "# lihat di folder \"notebook\" akan ada file baru dengan nama file yg ditetapkan diatas\n",
    "# Perhatikan perintah ini tidak mengeluarkan output langsung di notebook/terminal (silenced)"
   ]
  },
  {
   "cell_type": "code",
   "execution_count": null,
   "metadata": {},
   "outputs": [],
   "source": [
    "f = open(\"Output_Python.txt\",\"w\") # W = write new file, a='append existing file, new file if file does not exist'\n",
    "print(\"ini output pertama lagi karena opennya pakai 'w'\", file=f)\n",
    "f.close() "
   ]
  },
  {
   "cell_type": "code",
   "execution_count": null,
   "metadata": {},
   "outputs": [],
   "source": [
    "f = open(\"Output_Python.txt\",\"a\") # W = write new file, a='append existing file, new file if file does not exist'\n",
    "print(\"ini baru output kedua karena opennya pakai 'a'\", file=f)\n",
    "f.close() \n",
    "# Jangan lupa utk mengingat \"print\" by default akan ganti baris, sehingga di akhir setiap print tidak perlu penambahan \"\\n\""
   ]
  },
  {
   "cell_type": "markdown",
   "metadata": {},
   "source": [
    "# Python is not perfect, but if we know its weakness we can use it perfectly\n",
    "\n",
    "## Pointer to Reference"
   ]
  },
  {
   "cell_type": "code",
   "execution_count": null,
   "metadata": {},
   "outputs": [],
   "source": [
    "# Hati-hati dengan copy of reference (Pointer to Variabel) yg implisit di Python\n",
    "A =[2,3,4]\n",
    "B = A\n",
    "A.append(7) # Kita tidak melakukan apa-apa ke B\n",
    "print('A = ', A)\n",
    "print('B = ', B)\n",
    "\n",
    "# Mengapa outputnya seperti itu???...\n",
    "# Python sebisa mungkin menghindari \"copy of memory\" yg cocok utk DS/ML\n",
    "# menyebalkannya behavious semacam ini terkadang berbeda untuk versi python yg berbeda.\n",
    "# Data Scientist perlu informasi perubahan yg terjadi ketika memakai Python versi yg lebih terbaru\n",
    "# Solusi?"
   ]
  },
  {
   "cell_type": "code",
   "execution_count": null,
   "metadata": {},
   "outputs": [],
   "source": [
    "A =[2,3,4]\n",
    "B = A.copy() # ini yang mirip dgn bahasa pemrograman lain B=A\n",
    "A.append(7)\n",
    "print('A = ', A)\n",
    "print('B = ', B)"
   ]
  },
  {
   "cell_type": "markdown",
   "metadata": {},
   "source": [
    "## Zipping Lists dalam data science\n",
    "### Akan sering ditemukan proses di DS dimana 2 buah vector/array harus di olah bersamaan pada setiap elemennya tapi dalam index yang bersesuaian."
   ]
  },
  {
   "cell_type": "code",
   "execution_count": null,
   "metadata": {},
   "outputs": [],
   "source": [
    "# Zipping List\n",
    "A = ['Minggu','Senin','Jumat']\n",
    "B = ['Libur', 'Kerja', 'Kerja tapi ingin Libur']\n",
    "\n",
    "for a,b in zip(A,B):\n",
    "    print('{} {}'.format(a,b))\n",
    "    \n",
    "# Apa yang terjadi jika listnya beda ukuran???... ==> hati-hati\n",
    "# sering juga digunakan di Parallel Processing di Python ==> dibahas di PDS3"
   ]
  },
  {
   "cell_type": "markdown",
   "metadata": {},
   "source": [
    "### Tidak hanya list comprehension"
   ]
  },
  {
   "cell_type": "code",
   "execution_count": null,
   "metadata": {},
   "outputs": [],
   "source": [
    "D = {hari:kegiatan for hari, kegiatan in zip(A,B)}\n",
    "D"
   ]
  },
  {
   "cell_type": "code",
   "execution_count": null,
   "metadata": {},
   "outputs": [],
   "source": [
    "type(D)"
   ]
  },
  {
   "cell_type": "code",
   "execution_count": null,
   "metadata": {},
   "outputs": [],
   "source": [
    "D['Minggu']"
   ]
  },
  {
   "cell_type": "markdown",
   "metadata": {},
   "source": [
    "<h1 id=\"Fungsi-di-Matematika-VS-Pemrograman\">Fungsi di Matematika VS Pemrograman</h1>\n",
    "\n",
    "<p><img alt=\"\" src=\"images/7_Fungsi_di_Pemrograman_vs_Math.png\" /></p>\n"
   ]
  },
  {
   "cell_type": "markdown",
   "metadata": {},
   "source": [
    "<h1 id=\"Fungsi-di-Python\">Fungsi di Python (Structured/Procedural) - Pure Functions</h1>\n",
    "\n",
    "<p><img alt=\"\" src=\"images/7_fungsi_py.png\" /></p>\n"
   ]
  },
  {
   "cell_type": "code",
   "execution_count": null,
   "metadata": {},
   "outputs": [],
   "source": [
    "# Fungsi di Python cukup sederhana dan \n",
    "# parameter fungsi adalah variabel to reference\n",
    "# Sebaiknya diberikan multiple lines of metaFunction (keterangan tentang fungsi)\n",
    "\n",
    "def fungsi(A,B):\n",
    "    \"\"\"\n",
    "    ini adalah contoh fungsi sederhana penjumlahan 2 bilangan\n",
    "    input: a,b sembarang 2 bilangan (int/float)\n",
    "    output: a+b\n",
    "    \"\"\"\n",
    "    C = A+B\n",
    "    return C**2\n",
    "\n",
    "fungsi(1, 2)"
   ]
  },
  {
   "cell_type": "code",
   "execution_count": null,
   "metadata": {},
   "outputs": [],
   "source": [
    "# default Value sangat berguna di DS/ML\n",
    "def fungsi(A, B=5):\n",
    "    C = B+A**2\n",
    "    return C\n",
    "\n",
    "fungsi(7)"
   ]
  },
  {
   "cell_type": "markdown",
   "metadata": {},
   "source": [
    "# Python untuk Komputasi Numerik"
   ]
  },
  {
   "cell_type": "code",
   "execution_count": null,
   "metadata": {},
   "outputs": [],
   "source": [
    "import numpy as np\n",
    "\n",
    "s = [2.1, 2.8, 1.9, 2.5, 2.7, 2.3, 1.8, 1.2, 0.9, 0.1]\n",
    "C = np.array(s)\n",
    "print(C)\n",
    "C.shape"
   ]
  },
  {
   "cell_type": "code",
   "execution_count": null,
   "metadata": {},
   "outputs": [],
   "source": [
    "# elemen wise operations\n",
    "print(C * 2+1)"
   ]
  },
  {
   "cell_type": "code",
   "execution_count": null,
   "metadata": {},
   "outputs": [],
   "source": [
    "C = C.tolist()\n",
    "type(C)"
   ]
  },
  {
   "cell_type": "code",
   "execution_count": null,
   "metadata": {},
   "outputs": [],
   "source": [
    "print(s * 2+1)\n",
    "# Error : tidak bisa dilakukan di List"
   ]
  },
  {
   "cell_type": "code",
   "execution_count": null,
   "metadata": {},
   "outputs": [],
   "source": [
    "A = np.array([2,3])\n",
    "B = np.array([1,5])\n",
    "print(A*B)"
   ]
  },
  {
   "cell_type": "code",
   "execution_count": null,
   "metadata": {},
   "outputs": [],
   "source": [
    "print(np.dot(A,B)) # Jarak Euclidean di Data Science, misal k-Means"
   ]
  },
  {
   "cell_type": "markdown",
   "metadata": {},
   "source": [
    "# Exploratory Data Analysis (EDA)\n",
    "\n",
    "* Diperkenalkan oleh John Tukey 1961: \" _Procedures for analyzing data, techniques for interpreting the results of such procedures, ways of planning the gathering of data to make its analysis easier, more precise or more accurate, and all the machinery and results of (mathematical) statistics which apply to analyzing data._\"\n",
    "* Tukey promoted the use of five number summary of numerical data—the two extremes (maximum and minimum), the median, and the quartiles.\n",
    "* EDA refers to the critical process of performing **initial investigations on data** so as to discover patterns,to spot **anomalies**,to test hypothesis and to **check assumptions** with the help of **summary statistics and graphical representations**.\n",
    "* Tools: Python, R, S-Plus, etc\n",
    "\n",
    "<p><img alt=\"\" src=\"images/edamethods.png\" /></p>"
   ]
  },
  {
   "cell_type": "markdown",
   "metadata": {},
   "source": [
    "# Data Visualizations\n",
    "<p><img alt=\"\" src=\"images/Purpose_Visualize_Data.jpg\" /></p>"
   ]
  },
  {
   "cell_type": "markdown",
   "metadata": {},
   "source": [
    "# Tujuan EDA\n",
    "\n",
    "* **Suggest hypotheses** about the causes of observed phenomena\n",
    "* **Assess assumptions** on which statistical inference will be based\n",
    "* Support the **selection of appropriate statistical techniques**\n",
    "* Provide a basis for further data collection"
   ]
  },
  {
   "cell_type": "markdown",
   "metadata": {},
   "source": [
    "# Some References\n",
    "\n",
    "* Tukey, John Wilder (1977). Exploratory Data Analysis. Addison-Wesley. ISBN 978-0-201-07616-5.\n",
    "* Young, F. W. Valero-Mora, P. and Friendly M. (2006) Visual Statistics: Seeing your data with Dynamic Interactive Graphics. Wiley ISBN 978-0-471-68160-1\n",
    "* Andrienko, N & Andrienko, G (2005) Exploratory Analysis of Spatial and Temporal Data. A Systematic Approach. Springer. ISBN 3-540-25994-5"
   ]
  },
  {
   "cell_type": "code",
   "execution_count": null,
   "metadata": {},
   "outputs": [],
   "source": [
    "!mkdir data\n",
    "!wget -P data/ https://raw.githubusercontent.com/taufikedys/UnHas/master/data/price.csv"
   ]
  },
  {
   "cell_type": "code",
   "execution_count": null,
   "metadata": {
    "ExecuteTime": {
     "end_time": "2019-09-30T01:01:49.141679Z",
     "start_time": "2019-09-30T01:01:44.041912Z"
    }
   },
   "outputs": [],
   "source": [
    "# Importing Some Python Modules\n",
    "import scipy, itertools, pandas as pd, matplotlib.pyplot as plt, seaborn as sns, numpy as np\n",
    "import warnings; warnings.simplefilter('ignore')\n",
    "from scipy import stats\n",
    "from sklearn.preprocessing import StandardScaler, MinMaxScaler\n",
    "\n",
    "%matplotlib inline\n",
    "plt.style.use('bmh'); sns.set()"
   ]
  },
  {
   "cell_type": "markdown",
   "metadata": {},
   "source": [
    "# Studi Kasus\n",
    "\n",
    "* Misal seorang Data Scientist ditugaskan untuk menentukan investasi properti terbaik.\n",
    "* Tujuan analisa di modul ini adalah menemukan harga rumah yang lebih rendah dari harga pasaran\n",
    "* Asumsikan kita memiliki data harga rumah yang ditawarkan dan variabel-variabel terkait lainnya.\n",
    "* Untuk membuat keputusan investasi, kita akan melakukan EDA dan membuat pada data yang ada.\n",
    "\n",
    "<p><img alt=\"\" src=\"images/Regression-model.jpg\" /></p>"
   ]
  },
  {
   "cell_type": "markdown",
   "metadata": {},
   "source": [
    "# Contoh Kasus Data Harga Property Rumah\n",
    "\n",
    "* Sumber Data: http://byebuyhome.com/\n",
    "* Objective: menemukan harga rumah yang berada di bawah pasaran.\n",
    "* Variable:\n",
    " - **Dist_Taxi** – distance to nearest taxi stand from the property\n",
    " - **Dist_Market** – distance to nearest grocery market from the property\n",
    " - **Dist_Hospital** – distance to nearest hospital from the property\n",
    " - **Carpet** – carpet area of the property in square feet\n",
    " - **Builtup** – built-up area of the property in square feet\n",
    " - **Parking** – type of car parking available with the property\n",
    " - **City_Category** – categorization of the city based on the size\n",
    " - **Rainfall** – annual rainfall in the area where property is located\n",
    " - **House_Price** – price at which the property was sold"
   ]
  },
  {
   "cell_type": "code",
   "execution_count": null,
   "metadata": {
    "ExecuteTime": {
     "end_time": "2019-09-30T01:08:32.120040Z",
     "start_time": "2019-09-30T01:08:32.110066Z"
    }
   },
   "outputs": [],
   "source": [
    "# Importing CSV data  https://pandas.pydata.org/pandas-docs/stable/reference/api/pandas.read_csv.html\n",
    "price = pd.read_csv('data/price.csv')\n",
    "# Prefer XLS atau CSV di Data Science/Machine Learning ... Mengapa?"
   ]
  },
  {
   "cell_type": "code",
   "execution_count": null,
   "metadata": {
    "ExecuteTime": {
     "end_time": "2019-09-30T01:08:34.825452Z",
     "start_time": "2019-09-30T01:08:34.820463Z"
    }
   },
   "outputs": [],
   "source": [
    "# Tipe Datanya : DataFrame (df)\n",
    "type(price)"
   ]
  },
  {
   "cell_type": "code",
   "execution_count": null,
   "metadata": {
    "ExecuteTime": {
     "end_time": "2019-09-30T01:01:49.186533Z",
     "start_time": "2019-09-30T01:01:49.177222Z"
    }
   },
   "outputs": [],
   "source": [
    "# Ukuran Data\n",
    "N, P = price.shape\n",
    "print('baris = ', N, ', Kolom = ', P)"
   ]
  },
  {
   "cell_type": "code",
   "execution_count": null,
   "metadata": {
    "ExecuteTime": {
     "end_time": "2019-09-30T01:09:45.067396Z",
     "start_time": "2019-09-30T01:09:45.058420Z"
    }
   },
   "outputs": [],
   "source": [
    "# tipe data di setiap kolom\n",
    "# Wajib di periksa apakah tipe datanya sudah tepat?\n",
    "# Perhatikan df sebagaimana semua variable di Python diperlakukan seperti object\n",
    "price.info()"
   ]
  },
  {
   "cell_type": "code",
   "execution_count": null,
   "metadata": {
    "ExecuteTime": {
     "end_time": "2019-09-30T01:01:49.273357Z",
     "start_time": "2019-09-30T01:01:49.254351Z"
    }
   },
   "outputs": [],
   "source": [
    "# chosen at random\n",
    "price.sample(8)"
   ]
  },
  {
   "cell_type": "markdown",
   "metadata": {},
   "source": [
    "# Removing a variable"
   ]
  },
  {
   "cell_type": "code",
   "execution_count": null,
   "metadata": {
    "ExecuteTime": {
     "end_time": "2019-09-30T01:09:54.493202Z",
     "start_time": "2019-09-30T01:09:54.484458Z"
    }
   },
   "outputs": [],
   "source": [
    "# Drop kolom pertama karena tidak berguna (hanya index)\n",
    "price.drop(\"Observation\", axis=1, inplace=True)\n",
    "price.sample(3)"
   ]
  },
  {
   "cell_type": "code",
   "execution_count": null,
   "metadata": {},
   "outputs": [],
   "source": [
    "# Cek tipe variabel\n",
    "price.dtypes"
   ]
  },
  {
   "cell_type": "code",
   "execution_count": null,
   "metadata": {
    "ExecuteTime": {
     "end_time": "2019-09-30T01:10:08.390322Z",
     "start_time": "2019-09-30T01:10:08.380136Z"
    }
   },
   "outputs": [],
   "source": [
    "# dataframe types: https://pbpython.com/pandas_dtypes.html\n",
    "price['Parking'] = price['Parking'].astype('category')\n",
    "price['City_Category'] = price['City_Category'].astype('category')\n",
    "price.dtypes"
   ]
  },
  {
   "cell_type": "markdown",
   "metadata": {},
   "source": [
    "# Statistika Deskriptif"
   ]
  },
  {
   "cell_type": "code",
   "execution_count": null,
   "metadata": {
    "ExecuteTime": {
     "end_time": "2019-09-30T01:10:41.657165Z",
     "start_time": "2019-09-30T01:10:41.616276Z"
    }
   },
   "outputs": [],
   "source": [
    "# Statistika Sederhana dari data \"Numerik\"-nya\n",
    "price.describe(include='all')"
   ]
  },
  {
   "cell_type": "code",
   "execution_count": null,
   "metadata": {
    "ExecuteTime": {
     "end_time": "2019-09-30T01:11:45.093810Z",
     "start_time": "2019-09-30T01:11:45.076340Z"
    }
   },
   "outputs": [],
   "source": [
    "# ini adalah parameter tambahan jika kita juga ingin mendapatkan statistik sederhana seluruh datanya\n",
    "# (termasuk data kategorik)\n",
    "price[['Dist_Taxi','Parking']].describe(include='all')"
   ]
  },
  {
   "cell_type": "markdown",
   "metadata": {},
   "source": [
    "# Variable Selection"
   ]
  },
  {
   "cell_type": "code",
   "execution_count": null,
   "metadata": {
    "ExecuteTime": {
     "end_time": "2019-09-30T01:12:35.600749Z",
     "start_time": "2019-09-30T01:12:35.580328Z"
    }
   },
   "outputs": [],
   "source": [
    "# Memilih hanya variable dengan tipe tertentu\n",
    "price_num = price.select_dtypes(include = ['float64', 'int64'])\n",
    "price_num.head()\n",
    "# Perhatikan price_num adalah variable df baru! ... (hati-hati di data yang besar)"
   ]
  },
  {
   "cell_type": "code",
   "execution_count": null,
   "metadata": {
    "ExecuteTime": {
     "end_time": "2019-09-30T01:12:47.901163Z",
     "start_time": "2019-09-30T01:12:47.883160Z"
    }
   },
   "outputs": [],
   "source": [
    "# Memilih hanya variable dengan tipe tertentu\n",
    "price_cat = price.select_dtypes(include = ['category'])\n",
    "price_cat.head()"
   ]
  },
  {
   "cell_type": "code",
   "execution_count": null,
   "metadata": {
    "ExecuteTime": {
     "end_time": "2019-09-30T01:16:09.012894Z",
     "start_time": "2019-09-30T01:16:08.995362Z"
    }
   },
   "outputs": [],
   "source": [
    "df = pd.get_dummies(price['Parking'], prefix='Park')\n",
    "df.head()"
   ]
  },
  {
   "cell_type": "markdown",
   "metadata": {},
   "source": [
    "# Menggabungkan dengan data awal (concat)"
   ]
  },
  {
   "cell_type": "code",
   "execution_count": null,
   "metadata": {},
   "outputs": [],
   "source": [
    "df2 = pd.concat([price, df], axis = 1)\n",
    "df2.head()"
   ]
  },
  {
   "cell_type": "markdown",
   "metadata": {},
   "source": [
    "# Distribusi nilai pada setiap variabel kategorik"
   ]
  },
  {
   "cell_type": "code",
   "execution_count": null,
   "metadata": {
    "ExecuteTime": {
     "end_time": "2019-09-30T01:18:12.570340Z",
     "start_time": "2019-09-30T01:18:12.561826Z"
    }
   },
   "outputs": [],
   "source": [
    "# get all unique values of a variable/column\n",
    "for col in price_cat.columns:\n",
    "    print(col,': ', set(price[col].unique()))"
   ]
  },
  {
   "cell_type": "code",
   "execution_count": null,
   "metadata": {
    "ExecuteTime": {
     "end_time": "2019-09-30T01:01:49.840255Z",
     "start_time": "2019-09-30T01:01:49.557540Z"
    }
   },
   "outputs": [],
   "source": [
    "plt.figure(figsize=(8,6)) # https://matplotlib.org/api/_as_gen/matplotlib.pyplot.figure.html#matplotlib.pyplot.figure\n",
    "p = sns.countplot(x=\"Parking\", data=price)"
   ]
  },
  {
   "cell_type": "code",
   "execution_count": null,
   "metadata": {
    "ExecuteTime": {
     "end_time": "2019-09-30T01:01:49.914253Z",
     "start_time": "2019-09-30T01:01:49.841841Z"
    }
   },
   "outputs": [],
   "source": [
    "# ini dilakukan jika kita ingin menyimpan plotnya ke dalam suatu file\n",
    "p.figure.savefig('barChart.png')\n",
    "# lihat di folder ipynb-nya akan muncul file baru."
   ]
  },
  {
   "cell_type": "code",
   "execution_count": null,
   "metadata": {
    "ExecuteTime": {
     "end_time": "2019-09-30T01:01:50.095770Z",
     "start_time": "2019-09-30T01:01:49.918243Z"
    }
   },
   "outputs": [],
   "source": [
    "# PieChart\n",
    "plot = price.Parking.value_counts().plot(kind='pie')"
   ]
  },
  {
   "cell_type": "markdown",
   "metadata": {},
   "source": [
    "## Apakah ada kecenderungan perbedaan harga rumah akibat dari tipe tempat parkir?"
   ]
  },
  {
   "cell_type": "code",
   "execution_count": null,
   "metadata": {
    "ExecuteTime": {
     "end_time": "2019-09-30T01:01:50.484583Z",
     "start_time": "2019-09-30T01:01:50.098828Z"
    }
   },
   "outputs": [],
   "source": [
    "p = sns.catplot(x=\"Parking\", y=\"House_Price\", data=price)\n",
    "# Apa yang bisa dilihat dari hasil ini?"
   ]
  },
  {
   "cell_type": "markdown",
   "metadata": {},
   "source": [
    "# Outlier using Normality Assumption\n",
    "\n",
    "<p><img alt=\"\" src=\"images/XII_normal_CI.png\" style=\"width: 800px; height: 374px;\" /></p>"
   ]
  },
  {
   "cell_type": "code",
   "execution_count": null,
   "metadata": {
    "ExecuteTime": {
     "end_time": "2019-09-30T01:01:51.080385Z",
     "start_time": "2019-09-30T01:01:50.489391Z"
    }
   },
   "outputs": [],
   "source": [
    "# Distributions\n",
    "p = sns.distplot(price['House_Price'], kde=True, rug=True)"
   ]
  },
  {
   "cell_type": "code",
   "execution_count": null,
   "metadata": {
    "ExecuteTime": {
     "end_time": "2019-09-30T01:26:35.471859Z",
     "start_time": "2019-09-30T01:26:35.465294Z"
    }
   },
   "outputs": [],
   "source": [
    "# Misal dengan asumsi data berdistribusi normal\n",
    "# dan menggunakan 99% confidence interval di sekitar variabel \"harga\"\n",
    "\n",
    "df = np.abs(price.House_Price - price.House_Price.mean())<=(2*price.House_Price.std())\n",
    "# mu-2s<x<mu+2s\n",
    "print(df.shape)\n",
    "df.head()"
   ]
  },
  {
   "cell_type": "code",
   "execution_count": null,
   "metadata": {},
   "outputs": [],
   "source": [
    "price2 = price[df] # Data tanpa outliers\n",
    "print(price2.shape, price.shape)\n",
    "price2.head\n",
    "# Perhatikan disini sengaja data yang telah di remove outliernya \n",
    "# disimpan dalam variabel baru \"Price2\"\n",
    "# Jika datanya besar hati-hati melakukan hal ini"
   ]
  },
  {
   "cell_type": "code",
   "execution_count": null,
   "metadata": {
    "ExecuteTime": {
     "end_time": "2019-09-30T01:01:51.627698Z",
     "start_time": "2019-09-30T01:01:51.143217Z"
    }
   },
   "outputs": [],
   "source": [
    "# Distributions\n",
    "p = sns.distplot(price2['House_Price'], kde=True, rug=True)"
   ]
  },
  {
   "cell_type": "code",
   "execution_count": null,
   "metadata": {
    "ExecuteTime": {
     "end_time": "2019-09-30T01:27:46.145677Z",
     "start_time": "2019-09-30T01:27:45.789730Z"
    }
   },
   "outputs": [],
   "source": [
    "# Plot lagi setelah outlier removal\n",
    "p= sns.catplot(x=\"Parking\", y=\"House_Price\", data=price2)\n",
    "# Apakah ada kecenderungan perbedaan harga rumah akibat dari tipe tempat parkir?"
   ]
  },
  {
   "cell_type": "code",
   "execution_count": null,
   "metadata": {
    "ExecuteTime": {
     "end_time": "2019-09-30T01:01:53.025889Z",
     "start_time": "2019-09-30T01:01:52.038530Z"
    }
   },
   "outputs": [],
   "source": [
    "# Bisa juga plot dengan informasi dari 3 variabel sekaligus\n",
    "# (untuk melihat kemungkinan faktor interaksi)\n",
    "\n",
    "p= sns.catplot(x=\"Parking\", y=\"House_Price\", hue=\"City_Category\", kind=\"swarm\", data=price2)"
   ]
  },
  {
   "cell_type": "markdown",
   "metadata": {},
   "source": [
    "# Ada \"dugaan\" apakah dari hasil diatas?"
   ]
  },
  {
   "cell_type": "markdown",
   "metadata": {},
   "source": [
    "# Missing Values"
   ]
  },
  {
   "cell_type": "code",
   "execution_count": null,
   "metadata": {
    "ExecuteTime": {
     "end_time": "2019-09-30T01:47:26.285880Z",
     "start_time": "2019-09-30T01:47:26.278337Z"
    }
   },
   "outputs": [],
   "source": [
    "# General Look at the Missing Values\n",
    "print(price2.isnull().sum())"
   ]
  },
  {
   "cell_type": "code",
   "execution_count": null,
   "metadata": {
    "ExecuteTime": {
     "end_time": "2019-09-30T01:47:04.499900Z",
     "start_time": "2019-09-30T01:47:04.469605Z"
    }
   },
   "outputs": [],
   "source": [
    "# Simplest solution, if the MV is not a lot\n",
    "# drop rows with missing values : Ada berbagai cara\n",
    "X = price.dropna() # jika ada MV minimal satu di salah satu kolom, maka baris di hapus\n",
    "price2.dropna(how='all') # jika ada MV di semua kolom, maka baris di hapus\n",
    "price2.dropna(thresh=2) # jika ada MV minimal di salah 2 kolom, maka baris di hapus\n",
    "price2.dropna(subset=['Dist_Hospital'])[:7] # jika ada MV minimal satu di salah kolom Dist_Hospital\n",
    "# inplace=True if really really sure\n",
    "price2.dropna(inplace=True)"
   ]
  },
  {
   "cell_type": "code",
   "execution_count": null,
   "metadata": {},
   "outputs": [],
   "source": [
    "print(price2.isnull().sum())"
   ]
  },
  {
   "cell_type": "code",
   "execution_count": null,
   "metadata": {
    "ExecuteTime": {
     "end_time": "2019-09-30T01:47:14.671721Z",
     "start_time": "2019-09-30T01:47:14.659514Z"
    }
   },
   "outputs": [],
   "source": [
    "#mengecek apakah ada duplikat data?\n",
    "print(price2.shape)\n",
    "price2.duplicated().sum()"
   ]
  },
  {
   "cell_type": "code",
   "execution_count": null,
   "metadata": {
    "ExecuteTime": {
     "end_time": "2019-09-30T01:47:55.591787Z",
     "start_time": "2019-09-30T01:47:55.574034Z"
    }
   },
   "outputs": [],
   "source": [
    "#menghapus entri yang memiliki data duplikat \n",
    "price2.drop_duplicates(inplace=True)\n",
    "print(price2.duplicated().sum()) # no more duplicates\n",
    "print(price2.shape) # re-check by printing data size"
   ]
  },
  {
   "cell_type": "markdown",
   "metadata": {},
   "source": [
    "# (PairWise) Scatter Plot"
   ]
  },
  {
   "cell_type": "code",
   "execution_count": null,
   "metadata": {
    "ExecuteTime": {
     "end_time": "2019-09-30T01:02:08.703598Z",
     "start_time": "2019-09-30T01:01:53.121631Z"
    }
   },
   "outputs": [],
   "source": [
    "# Scatter Plots; https://seaborn.pydata.org/generated/seaborn.pairplot.html\n",
    "p = sns.pairplot(price2, hue=\"City_Category\")\n",
    "# Warning agak lambat (variabel cukup banyak)"
   ]
  },
  {
   "cell_type": "code",
   "execution_count": null,
   "metadata": {
    "ExecuteTime": {
     "end_time": "2019-09-30T01:02:14.506250Z",
     "start_time": "2019-09-30T01:02:08.705995Z"
    }
   },
   "outputs": [],
   "source": [
    "# Coba kita perhatikan sebagiannya saja dulu dan coba kelompokkan berdasarkan \"Parking\"\n",
    "p = sns.pairplot(price[['House_Price','Builtup','Dist_Hospital','Dist_Taxi','Parking','City_Category']], hue=\"City_Category\")\n",
    "# Ada pola menarik?"
   ]
  },
  {
   "cell_type": "markdown",
   "metadata": {},
   "source": [
    "# BoxPlot"
   ]
  },
  {
   "cell_type": "code",
   "execution_count": null,
   "metadata": {
    "ExecuteTime": {
     "end_time": "2019-09-30T01:02:14.978985Z",
     "start_time": "2019-09-30T01:02:14.622937Z"
    }
   },
   "outputs": [],
   "source": [
    "# BoxPlots\n",
    "p = sns.boxplot(x=\"House_Price\", y=\"Parking\", data=price2)\n",
    "# Apa makna pola yang terlihat di data oleh BoxPlot ini?"
   ]
  },
  {
   "cell_type": "code",
   "execution_count": null,
   "metadata": {
    "ExecuteTime": {
     "end_time": "2019-09-30T01:02:15.333037Z",
     "start_time": "2019-09-30T01:02:14.981977Z"
    }
   },
   "outputs": [],
   "source": [
    "# Jika ada outlier grafiknya menjadi tidak jelas (data = price, bukan price2)\n",
    "p = sns.boxplot(x=\"House_Price\", y=\"Parking\", data=price)"
   ]
  },
  {
   "cell_type": "markdown",
   "metadata": {},
   "source": [
    "# Boxplot dapat juga dipisahkan berdasarkan suatu kategori"
   ]
  },
  {
   "cell_type": "code",
   "execution_count": null,
   "metadata": {
    "ExecuteTime": {
     "end_time": "2019-09-30T01:02:16.002248Z",
     "start_time": "2019-09-30T01:02:15.337026Z"
    }
   },
   "outputs": [],
   "source": [
    "p = sns.catplot(x=\"Parking\", y=\"House_Price\", hue=\"City_Category\", kind=\"box\", data=price2)"
   ]
  },
  {
   "cell_type": "markdown",
   "metadata": {},
   "source": [
    "# Ada dugaan/interpretasi (baru) apakah dari boxPlot diatas?"
   ]
  },
  {
   "cell_type": "markdown",
   "metadata": {},
   "source": [
    "# Checking Correlations"
   ]
  },
  {
   "cell_type": "code",
   "execution_count": null,
   "metadata": {
    "ExecuteTime": {
     "end_time": "2019-09-30T01:02:16.029174Z",
     "start_time": "2019-09-30T01:02:16.005239Z"
    }
   },
   "outputs": [],
   "source": [
    "price2.corr()"
   ]
  },
  {
   "cell_type": "code",
   "execution_count": null,
   "metadata": {
    "ExecuteTime": {
     "end_time": "2019-09-30T01:02:16.555765Z",
     "start_time": "2019-09-30T01:02:16.035160Z"
    }
   },
   "outputs": [],
   "source": [
    "# HeatMap untuk menyelidiki korelasi\n",
    "corr2 = price2.corr() # We already examined SalePrice correlations\n",
    "plt.figure(figsize=(12, 10))\n",
    "\n",
    "sns.heatmap(corr2[(corr2 >= 0.5) | (corr2 <= -0.4)], \n",
    "            cmap='viridis', vmax=1.0, vmin=-1.0, linewidths=0.1,\n",
    "            annot=True, annot_kws={\"size\": 8}, square=True);"
   ]
  },
  {
   "cell_type": "markdown",
   "metadata": {
    "slideshow": {
     "slide_type": "slide"
    }
   },
   "source": [
    "# <center><font color=\"blue\"> End of Module 01\n",
    "\n",
    "<hr />\n",
    "<p><img alt=\"\" src=\"images/meme_4.png\" /></p>"
   ]
  }
 ],
 "metadata": {
  "celltoolbar": "Slideshow",
  "kernelspec": {
   "display_name": "Python 3",
   "language": "python",
   "name": "python3"
  },
  "language_info": {
   "codemirror_mode": {
    "name": "ipython",
    "version": 3
   },
   "file_extension": ".py",
   "mimetype": "text/x-python",
   "name": "python",
   "nbconvert_exporter": "python",
   "pygments_lexer": "ipython3",
   "version": "3.6.8"
  }
 },
 "nbformat": 4,
 "nbformat_minor": 2
}
